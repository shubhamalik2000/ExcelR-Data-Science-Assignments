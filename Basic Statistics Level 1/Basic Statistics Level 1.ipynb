{
 "cells": [
  {
   "cell_type": "code",
   "execution_count": 69,
   "id": "31ac9b32",
   "metadata": {},
   "outputs": [],
   "source": [
    "import numpy as np\n",
    "import scipy.stats as stats\n",
    "import pandas as pd\n",
    "import statistics as st\n",
    "import matplotlib.pyplot as plt\n",
    "import seaborn as sns"
   ]
  },
  {
   "cell_type": "markdown",
   "id": "1051f72d",
   "metadata": {},
   "source": [
    "# Question 7:\n",
    "\n",
    "Calculate Mean, Median, Mode, Variance, Standard Deviation, Range &     comment about the values / draw inferences, for the given dataset"
   ]
  },
  {
   "cell_type": "code",
   "execution_count": 3,
   "id": "ace4ae65",
   "metadata": {},
   "outputs": [],
   "source": [
    "Q7_data = pd.read_csv('Q7.csv')"
   ]
  },
  {
   "cell_type": "code",
   "execution_count": 6,
   "id": "ffcca2d9",
   "metadata": {
    "scrolled": true
   },
   "outputs": [
    {
     "data": {
      "text/html": [
       "<div>\n",
       "<style scoped>\n",
       "    .dataframe tbody tr th:only-of-type {\n",
       "        vertical-align: middle;\n",
       "    }\n",
       "\n",
       "    .dataframe tbody tr th {\n",
       "        vertical-align: top;\n",
       "    }\n",
       "\n",
       "    .dataframe thead th {\n",
       "        text-align: right;\n",
       "    }\n",
       "</style>\n",
       "<table border=\"1\" class=\"dataframe\">\n",
       "  <thead>\n",
       "    <tr style=\"text-align: right;\">\n",
       "      <th></th>\n",
       "      <th>Unnamed: 0</th>\n",
       "      <th>Points</th>\n",
       "      <th>Score</th>\n",
       "      <th>Weigh</th>\n",
       "    </tr>\n",
       "  </thead>\n",
       "  <tbody>\n",
       "    <tr>\n",
       "      <th>0</th>\n",
       "      <td>Mazda RX4</td>\n",
       "      <td>3.90</td>\n",
       "      <td>2.620</td>\n",
       "      <td>16.46</td>\n",
       "    </tr>\n",
       "    <tr>\n",
       "      <th>1</th>\n",
       "      <td>Mazda RX4 Wag</td>\n",
       "      <td>3.90</td>\n",
       "      <td>2.875</td>\n",
       "      <td>17.02</td>\n",
       "    </tr>\n",
       "    <tr>\n",
       "      <th>2</th>\n",
       "      <td>Datsun 710</td>\n",
       "      <td>3.85</td>\n",
       "      <td>2.320</td>\n",
       "      <td>18.61</td>\n",
       "    </tr>\n",
       "    <tr>\n",
       "      <th>3</th>\n",
       "      <td>Hornet 4 Drive</td>\n",
       "      <td>3.08</td>\n",
       "      <td>3.215</td>\n",
       "      <td>19.44</td>\n",
       "    </tr>\n",
       "    <tr>\n",
       "      <th>4</th>\n",
       "      <td>Hornet Sportabout</td>\n",
       "      <td>3.15</td>\n",
       "      <td>3.440</td>\n",
       "      <td>17.02</td>\n",
       "    </tr>\n",
       "  </tbody>\n",
       "</table>\n",
       "</div>"
      ],
      "text/plain": [
       "          Unnamed: 0  Points  Score  Weigh\n",
       "0          Mazda RX4    3.90  2.620  16.46\n",
       "1      Mazda RX4 Wag    3.90  2.875  17.02\n",
       "2         Datsun 710    3.85  2.320  18.61\n",
       "3     Hornet 4 Drive    3.08  3.215  19.44\n",
       "4  Hornet Sportabout    3.15  3.440  17.02"
      ]
     },
     "execution_count": 6,
     "metadata": {},
     "output_type": "execute_result"
    }
   ],
   "source": [
    "Q7_data.head()"
   ]
  },
  {
   "cell_type": "code",
   "execution_count": 7,
   "id": "dff6d965",
   "metadata": {
    "scrolled": true
   },
   "outputs": [
    {
     "data": {
      "text/html": [
       "<div>\n",
       "<style scoped>\n",
       "    .dataframe tbody tr th:only-of-type {\n",
       "        vertical-align: middle;\n",
       "    }\n",
       "\n",
       "    .dataframe tbody tr th {\n",
       "        vertical-align: top;\n",
       "    }\n",
       "\n",
       "    .dataframe thead th {\n",
       "        text-align: right;\n",
       "    }\n",
       "</style>\n",
       "<table border=\"1\" class=\"dataframe\">\n",
       "  <thead>\n",
       "    <tr style=\"text-align: right;\">\n",
       "      <th></th>\n",
       "      <th>Points</th>\n",
       "      <th>Score</th>\n",
       "      <th>Weigh</th>\n",
       "    </tr>\n",
       "  </thead>\n",
       "  <tbody>\n",
       "    <tr>\n",
       "      <th>count</th>\n",
       "      <td>32.000000</td>\n",
       "      <td>32.000000</td>\n",
       "      <td>32.000000</td>\n",
       "    </tr>\n",
       "    <tr>\n",
       "      <th>mean</th>\n",
       "      <td>3.596563</td>\n",
       "      <td>3.217250</td>\n",
       "      <td>17.848750</td>\n",
       "    </tr>\n",
       "    <tr>\n",
       "      <th>std</th>\n",
       "      <td>0.534679</td>\n",
       "      <td>0.978457</td>\n",
       "      <td>1.786943</td>\n",
       "    </tr>\n",
       "    <tr>\n",
       "      <th>min</th>\n",
       "      <td>2.760000</td>\n",
       "      <td>1.513000</td>\n",
       "      <td>14.500000</td>\n",
       "    </tr>\n",
       "    <tr>\n",
       "      <th>25%</th>\n",
       "      <td>3.080000</td>\n",
       "      <td>2.581250</td>\n",
       "      <td>16.892500</td>\n",
       "    </tr>\n",
       "    <tr>\n",
       "      <th>50%</th>\n",
       "      <td>3.695000</td>\n",
       "      <td>3.325000</td>\n",
       "      <td>17.710000</td>\n",
       "    </tr>\n",
       "    <tr>\n",
       "      <th>75%</th>\n",
       "      <td>3.920000</td>\n",
       "      <td>3.610000</td>\n",
       "      <td>18.900000</td>\n",
       "    </tr>\n",
       "    <tr>\n",
       "      <th>max</th>\n",
       "      <td>4.930000</td>\n",
       "      <td>5.424000</td>\n",
       "      <td>22.900000</td>\n",
       "    </tr>\n",
       "  </tbody>\n",
       "</table>\n",
       "</div>"
      ],
      "text/plain": [
       "          Points      Score      Weigh\n",
       "count  32.000000  32.000000  32.000000\n",
       "mean    3.596563   3.217250  17.848750\n",
       "std     0.534679   0.978457   1.786943\n",
       "min     2.760000   1.513000  14.500000\n",
       "25%     3.080000   2.581250  16.892500\n",
       "50%     3.695000   3.325000  17.710000\n",
       "75%     3.920000   3.610000  18.900000\n",
       "max     4.930000   5.424000  22.900000"
      ]
     },
     "execution_count": 7,
     "metadata": {},
     "output_type": "execute_result"
    }
   ],
   "source": [
    "Q7_data.describe()"
   ]
  },
  {
   "cell_type": "code",
   "execution_count": 32,
   "id": "dffef885",
   "metadata": {},
   "outputs": [
    {
     "name": "stdout",
     "output_type": "stream",
     "text": [
      "<class 'pandas.core.frame.DataFrame'>\n",
      "RangeIndex: 32 entries, 0 to 31\n",
      "Data columns (total 4 columns):\n",
      " #   Column      Non-Null Count  Dtype  \n",
      "---  ------      --------------  -----  \n",
      " 0   Unnamed: 0  32 non-null     object \n",
      " 1   Points      32 non-null     float64\n",
      " 2   Score       32 non-null     float64\n",
      " 3   Weigh       32 non-null     float64\n",
      "dtypes: float64(3), object(1)\n",
      "memory usage: 1.1+ KB\n"
     ]
    }
   ],
   "source": [
    "Q7_data.info()"
   ]
  },
  {
   "cell_type": "code",
   "execution_count": 9,
   "id": "dd496a1f",
   "metadata": {},
   "outputs": [
    {
     "data": {
      "text/plain": [
       "Points     3.596563\n",
       "Score      3.217250\n",
       "Weigh     17.848750\n",
       "dtype: float64"
      ]
     },
     "execution_count": 9,
     "metadata": {},
     "output_type": "execute_result"
    }
   ],
   "source": [
    "Q7_data.mean(numeric_only = True)"
   ]
  },
  {
   "cell_type": "code",
   "execution_count": 11,
   "id": "f4c0e349",
   "metadata": {},
   "outputs": [
    {
     "data": {
      "text/plain": [
       "Points     3.695\n",
       "Score      3.325\n",
       "Weigh     17.710\n",
       "dtype: float64"
      ]
     },
     "execution_count": 11,
     "metadata": {},
     "output_type": "execute_result"
    }
   ],
   "source": [
    "Q7_data.median(numeric_only = True)"
   ]
  },
  {
   "cell_type": "code",
   "execution_count": 12,
   "id": "62768027",
   "metadata": {},
   "outputs": [
    {
     "data": {
      "text/html": [
       "<div>\n",
       "<style scoped>\n",
       "    .dataframe tbody tr th:only-of-type {\n",
       "        vertical-align: middle;\n",
       "    }\n",
       "\n",
       "    .dataframe tbody tr th {\n",
       "        vertical-align: top;\n",
       "    }\n",
       "\n",
       "    .dataframe thead th {\n",
       "        text-align: right;\n",
       "    }\n",
       "</style>\n",
       "<table border=\"1\" class=\"dataframe\">\n",
       "  <thead>\n",
       "    <tr style=\"text-align: right;\">\n",
       "      <th></th>\n",
       "      <th>Points</th>\n",
       "      <th>Score</th>\n",
       "      <th>Weigh</th>\n",
       "    </tr>\n",
       "  </thead>\n",
       "  <tbody>\n",
       "    <tr>\n",
       "      <th>0</th>\n",
       "      <td>3.07</td>\n",
       "      <td>3.44</td>\n",
       "      <td>17.02</td>\n",
       "    </tr>\n",
       "    <tr>\n",
       "      <th>1</th>\n",
       "      <td>3.92</td>\n",
       "      <td>NaN</td>\n",
       "      <td>18.90</td>\n",
       "    </tr>\n",
       "  </tbody>\n",
       "</table>\n",
       "</div>"
      ],
      "text/plain": [
       "   Points  Score  Weigh\n",
       "0    3.07   3.44  17.02\n",
       "1    3.92    NaN  18.90"
      ]
     },
     "execution_count": 12,
     "metadata": {},
     "output_type": "execute_result"
    }
   ],
   "source": [
    "Q7_data.mode(numeric_only = True)"
   ]
  },
  {
   "cell_type": "code",
   "execution_count": 15,
   "id": "9b19930c",
   "metadata": {},
   "outputs": [
    {
     "data": {
      "text/plain": [
       "ModeResult(mode=3.07, count=3)"
      ]
     },
     "execution_count": 15,
     "metadata": {},
     "output_type": "execute_result"
    }
   ],
   "source": [
    "stats.mode(Q7_data['Points'])"
   ]
  },
  {
   "cell_type": "code",
   "execution_count": 16,
   "id": "8983e437",
   "metadata": {},
   "outputs": [
    {
     "data": {
      "text/plain": [
       "ModeResult(mode=3.44, count=3)"
      ]
     },
     "execution_count": 16,
     "metadata": {},
     "output_type": "execute_result"
    }
   ],
   "source": [
    "stats.mode(Q7_data['Score'])"
   ]
  },
  {
   "cell_type": "code",
   "execution_count": 17,
   "id": "244b3b01",
   "metadata": {},
   "outputs": [
    {
     "data": {
      "text/plain": [
       "ModeResult(mode=17.02, count=2)"
      ]
     },
     "execution_count": 17,
     "metadata": {},
     "output_type": "execute_result"
    }
   ],
   "source": [
    "stats.mode(Q7_data['Weigh'])"
   ]
  },
  {
   "cell_type": "markdown",
   "id": "d073136b",
   "metadata": {},
   "source": [
    "__Standard Deviation__"
   ]
  },
  {
   "cell_type": "code",
   "execution_count": 34,
   "id": "1643b508",
   "metadata": {},
   "outputs": [
    {
     "data": {
      "text/plain": [
       "0.9784574429896967"
      ]
     },
     "execution_count": 34,
     "metadata": {},
     "output_type": "execute_result"
    }
   ],
   "source": [
    "st.stdev(Q7_data['Score'])"
   ]
  },
  {
   "cell_type": "code",
   "execution_count": 35,
   "id": "397f37e0",
   "metadata": {},
   "outputs": [
    {
     "data": {
      "text/plain": [
       "0.5346787360709715"
      ]
     },
     "execution_count": 35,
     "metadata": {},
     "output_type": "execute_result"
    }
   ],
   "source": [
    "st.stdev(Q7_data['Points'])"
   ]
  },
  {
   "cell_type": "code",
   "execution_count": 36,
   "id": "bea2c407",
   "metadata": {},
   "outputs": [
    {
     "data": {
      "text/plain": [
       "1.786943236096843"
      ]
     },
     "execution_count": 36,
     "metadata": {},
     "output_type": "execute_result"
    }
   ],
   "source": [
    "st.stdev(Q7_data['Weigh'])"
   ]
  },
  {
   "cell_type": "markdown",
   "id": "e7dc62fe",
   "metadata": {},
   "source": [
    "__Variance__"
   ]
  },
  {
   "cell_type": "code",
   "execution_count": 37,
   "id": "0255b5ed",
   "metadata": {},
   "outputs": [
    {
     "data": {
      "text/plain": [
       "0.2858813508064516"
      ]
     },
     "execution_count": 37,
     "metadata": {},
     "output_type": "execute_result"
    }
   ],
   "source": [
    "st.variance(Q7_data['Points'])"
   ]
  },
  {
   "cell_type": "code",
   "execution_count": 38,
   "id": "d7a39944",
   "metadata": {},
   "outputs": [
    {
     "data": {
      "text/plain": [
       "3.1931661290322575"
      ]
     },
     "execution_count": 38,
     "metadata": {},
     "output_type": "execute_result"
    }
   ],
   "source": [
    "st.variance(Q7_data['Weigh'])"
   ]
  },
  {
   "cell_type": "code",
   "execution_count": 39,
   "id": "7d0285bb",
   "metadata": {},
   "outputs": [
    {
     "data": {
      "text/plain": [
       "0.9573789677419355"
      ]
     },
     "execution_count": 39,
     "metadata": {},
     "output_type": "execute_result"
    }
   ],
   "source": [
    "st.variance(Q7_data['Score'])"
   ]
  },
  {
   "cell_type": "markdown",
   "id": "c0d9fe24",
   "metadata": {},
   "source": [
    "__Range__"
   ]
  },
  {
   "cell_type": "code",
   "execution_count": 43,
   "id": "0b2efdac",
   "metadata": {},
   "outputs": [
    {
     "data": {
      "text/plain": [
       "2.17"
      ]
     },
     "execution_count": 43,
     "metadata": {},
     "output_type": "execute_result"
    }
   ],
   "source": [
    "np.ptp(Q7_data['Points'])"
   ]
  },
  {
   "cell_type": "code",
   "execution_count": 45,
   "id": "61dc144f",
   "metadata": {},
   "outputs": [
    {
     "data": {
      "text/plain": [
       "2.17"
      ]
     },
     "execution_count": 45,
     "metadata": {},
     "output_type": "execute_result"
    }
   ],
   "source": [
    "max(Q7_data['Points']) - min(Q7_data['Points'])"
   ]
  },
  {
   "cell_type": "code",
   "execution_count": 46,
   "id": "56faeac4",
   "metadata": {},
   "outputs": [
    {
     "data": {
      "text/plain": [
       "8.399999999999999"
      ]
     },
     "execution_count": 46,
     "metadata": {},
     "output_type": "execute_result"
    }
   ],
   "source": [
    "np.ptp(Q7_data['Weigh'])"
   ]
  },
  {
   "cell_type": "code",
   "execution_count": 47,
   "id": "5ae1dfed",
   "metadata": {},
   "outputs": [
    {
     "data": {
      "text/plain": [
       "3.9110000000000005"
      ]
     },
     "execution_count": 47,
     "metadata": {},
     "output_type": "execute_result"
    }
   ],
   "source": [
    "np.ptp(Q7_data['Score'])"
   ]
  },
  {
   "cell_type": "markdown",
   "id": "58b4c67c",
   "metadata": {},
   "source": [
    "__Drawing inference using plots__"
   ]
  },
  {
   "cell_type": "code",
   "execution_count": 117,
   "id": "0496d4d5",
   "metadata": {},
   "outputs": [
    {
     "name": "stderr",
     "output_type": "stream",
     "text": [
      "C:\\Users\\LENOVO\\AppData\\Local\\Temp\\ipykernel_17432\\38575211.py:2: MatplotlibDeprecationWarning: Auto-removal of overlapping axes is deprecated since 3.6 and will be removed two minor releases later; explicitly call ax.remove() as needed.\n",
      "  plt.subplot(131)\n"
     ]
    },
    {
     "data": {
      "image/png": "[encoded data removed]",
      "text/plain": [
       "<Figure size 1600x900 with 3 Axes>"
      ]
     },
     "metadata": {},
     "output_type": "display_data"
    }
   ],
   "source": [
    "plt.subplots(figsize = (16,9))\n",
    "plt.subplot(131)\n",
    "plt.boxplot(Q7_data['Points'])\n",
    "plt.title('Points')\n",
    "plt.subplot(132)\n",
    "plt.boxplot(Q7_data['Score'])\n",
    "plt.title('Score')\n",
    "plt.subplot(133)\n",
    "plt.boxplot(Q7_data['Weigh'])\n",
    "plt.title('Weigh')\n",
    "plt.savefig('Q7_inference.png')"
   ]
  },
  {
   "cell_type": "markdown",
   "id": "0a66e9e6",
   "metadata": {},
   "source": [
    "# Question 8:\n",
    "\n",
    "Calculate Expected Value for the problem below\n",
    "a)\tThe weights (X) of patients at a clinic (in pounds), are\n",
    "108, 110, 123, 134, 135, 145, 167, 187, 199\n",
    "Assume one of the patients is chosen at random. What is the Expected Value of the Weight of that patient?"
   ]
  },
  {
   "cell_type": "code",
   "execution_count": 63,
   "id": "86c803e8",
   "metadata": {},
   "outputs": [],
   "source": [
    "weights = [108,110, 123, 134, 135, 145, 167, 187]"
   ]
  },
  {
   "cell_type": "code",
   "execution_count": 65,
   "id": "c31b5484",
   "metadata": {},
   "outputs": [
    {
     "data": {
      "text/plain": [
       "138.625"
      ]
     },
     "execution_count": 65,
     "metadata": {},
     "output_type": "execute_result"
    }
   ],
   "source": [
    "np.mean(weights)"
   ]
  },
  {
   "cell_type": "markdown",
   "id": "1c6736f0",
   "metadata": {},
   "source": [
    "Therefore, if one patients is chosen at random then the expected weight is 138.625 kgs"
   ]
  },
  {
   "cell_type": "markdown",
   "id": "9b9e80fc",
   "metadata": {},
   "source": [
    "# Question 9 (a):\n",
    "\n",
    "Calculate Skewness, Kurtosis & draw inferences on the following data \n",
    "\n",
    "\n",
    "a) Cars speed and distance "
   ]
  },
  {
   "cell_type": "code",
   "execution_count": 66,
   "id": "69069519",
   "metadata": {},
   "outputs": [],
   "source": [
    "Q9_a = pd.read_csv('Q9_a.csv')"
   ]
  },
  {
   "cell_type": "code",
   "execution_count": 68,
   "id": "70ad9016",
   "metadata": {
    "scrolled": true
   },
   "outputs": [
    {
     "data": {
      "text/html": [
       "<div>\n",
       "<style scoped>\n",
       "    .dataframe tbody tr th:only-of-type {\n",
       "        vertical-align: middle;\n",
       "    }\n",
       "\n",
       "    .dataframe tbody tr th {\n",
       "        vertical-align: top;\n",
       "    }\n",
       "\n",
       "    .dataframe thead th {\n",
       "        text-align: right;\n",
       "    }\n",
       "</style>\n",
       "<table border=\"1\" class=\"dataframe\">\n",
       "  <thead>\n",
       "    <tr style=\"text-align: right;\">\n",
       "      <th></th>\n",
       "      <th>Index</th>\n",
       "      <th>speed</th>\n",
       "      <th>dist</th>\n",
       "    </tr>\n",
       "  </thead>\n",
       "  <tbody>\n",
       "    <tr>\n",
       "      <th>0</th>\n",
       "      <td>1</td>\n",
       "      <td>4</td>\n",
       "      <td>2</td>\n",
       "    </tr>\n",
       "    <tr>\n",
       "      <th>1</th>\n",
       "      <td>2</td>\n",
       "      <td>4</td>\n",
       "      <td>10</td>\n",
       "    </tr>\n",
       "    <tr>\n",
       "      <th>2</th>\n",
       "      <td>3</td>\n",
       "      <td>7</td>\n",
       "      <td>4</td>\n",
       "    </tr>\n",
       "    <tr>\n",
       "      <th>3</th>\n",
       "      <td>4</td>\n",
       "      <td>7</td>\n",
       "      <td>22</td>\n",
       "    </tr>\n",
       "    <tr>\n",
       "      <th>4</th>\n",
       "      <td>5</td>\n",
       "      <td>8</td>\n",
       "      <td>16</td>\n",
       "    </tr>\n",
       "  </tbody>\n",
       "</table>\n",
       "</div>"
      ],
      "text/plain": [
       "   Index  speed  dist\n",
       "0      1      4     2\n",
       "1      2      4    10\n",
       "2      3      7     4\n",
       "3      4      7    22\n",
       "4      5      8    16"
      ]
     },
     "execution_count": 68,
     "metadata": {},
     "output_type": "execute_result"
    }
   ],
   "source": [
    "Q9_a.head()"
   ]
  },
  {
   "cell_type": "code",
   "execution_count": 79,
   "id": "b1638f90",
   "metadata": {},
   "outputs": [
    {
     "data": {
      "text/html": [
       "<div>\n",
       "<style scoped>\n",
       "    .dataframe tbody tr th:only-of-type {\n",
       "        vertical-align: middle;\n",
       "    }\n",
       "\n",
       "    .dataframe tbody tr th {\n",
       "        vertical-align: top;\n",
       "    }\n",
       "\n",
       "    .dataframe thead th {\n",
       "        text-align: right;\n",
       "    }\n",
       "</style>\n",
       "<table border=\"1\" class=\"dataframe\">\n",
       "  <thead>\n",
       "    <tr style=\"text-align: right;\">\n",
       "      <th></th>\n",
       "      <th>Index</th>\n",
       "      <th>speed</th>\n",
       "      <th>dist</th>\n",
       "    </tr>\n",
       "  </thead>\n",
       "  <tbody>\n",
       "    <tr>\n",
       "      <th>count</th>\n",
       "      <td>50.00000</td>\n",
       "      <td>50.000000</td>\n",
       "      <td>50.000000</td>\n",
       "    </tr>\n",
       "    <tr>\n",
       "      <th>mean</th>\n",
       "      <td>25.50000</td>\n",
       "      <td>15.400000</td>\n",
       "      <td>42.980000</td>\n",
       "    </tr>\n",
       "    <tr>\n",
       "      <th>std</th>\n",
       "      <td>14.57738</td>\n",
       "      <td>5.287644</td>\n",
       "      <td>25.769377</td>\n",
       "    </tr>\n",
       "    <tr>\n",
       "      <th>min</th>\n",
       "      <td>1.00000</td>\n",
       "      <td>4.000000</td>\n",
       "      <td>2.000000</td>\n",
       "    </tr>\n",
       "    <tr>\n",
       "      <th>25%</th>\n",
       "      <td>13.25000</td>\n",
       "      <td>12.000000</td>\n",
       "      <td>26.000000</td>\n",
       "    </tr>\n",
       "    <tr>\n",
       "      <th>50%</th>\n",
       "      <td>25.50000</td>\n",
       "      <td>15.000000</td>\n",
       "      <td>36.000000</td>\n",
       "    </tr>\n",
       "    <tr>\n",
       "      <th>75%</th>\n",
       "      <td>37.75000</td>\n",
       "      <td>19.000000</td>\n",
       "      <td>56.000000</td>\n",
       "    </tr>\n",
       "    <tr>\n",
       "      <th>max</th>\n",
       "      <td>50.00000</td>\n",
       "      <td>25.000000</td>\n",
       "      <td>120.000000</td>\n",
       "    </tr>\n",
       "  </tbody>\n",
       "</table>\n",
       "</div>"
      ],
      "text/plain": [
       "          Index      speed        dist\n",
       "count  50.00000  50.000000   50.000000\n",
       "mean   25.50000  15.400000   42.980000\n",
       "std    14.57738   5.287644   25.769377\n",
       "min     1.00000   4.000000    2.000000\n",
       "25%    13.25000  12.000000   26.000000\n",
       "50%    25.50000  15.000000   36.000000\n",
       "75%    37.75000  19.000000   56.000000\n",
       "max    50.00000  25.000000  120.000000"
      ]
     },
     "execution_count": 79,
     "metadata": {},
     "output_type": "execute_result"
    }
   ],
   "source": [
    "Q9_a.describe()"
   ]
  },
  {
   "cell_type": "code",
   "execution_count": 93,
   "id": "63692fe0",
   "metadata": {
    "scrolled": false
   },
   "outputs": [
    {
     "name": "stderr",
     "output_type": "stream",
     "text": [
      "C:\\Users\\LENOVO\\anaconda3\\Lib\\site-packages\\seaborn\\axisgrid.py:118: UserWarning: The figure layout has changed to tight\n",
      "  self._figure.tight_layout(*args, **kwargs)\n"
     ]
    },
    {
     "data": {
      "text/plain": [
       "<seaborn.axisgrid.FacetGrid at 0x283d6633210>"
      ]
     },
     "execution_count": 93,
     "metadata": {},
     "output_type": "execute_result"
    },
    {
     "data": {
      "image/png": "[encoded data removed]",
      "text/plain": [
       "<Figure size 500x500 with 1 Axes>"
      ]
     },
     "metadata": {},
     "output_type": "display_data"
    }
   ],
   "source": [
    "sns.displot(Q9_a['speed'], bins = 10, kde = True, alpha = 0.2)"
   ]
  },
  {
   "cell_type": "code",
   "execution_count": 94,
   "id": "0baa0248",
   "metadata": {},
   "outputs": [
    {
     "name": "stderr",
     "output_type": "stream",
     "text": [
      "C:\\Users\\LENOVO\\anaconda3\\Lib\\site-packages\\seaborn\\axisgrid.py:118: UserWarning: The figure layout has changed to tight\n",
      "  self._figure.tight_layout(*args, **kwargs)\n"
     ]
    },
    {
     "data": {
      "text/plain": [
       "<seaborn.axisgrid.FacetGrid at 0x283d50e09d0>"
      ]
     },
     "execution_count": 94,
     "metadata": {},
     "output_type": "execute_result"
    },
    {
     "data": {
      "image/png": "[encoded data removed]",
      "text/plain": [
       "<Figure size 500x500 with 1 Axes>"
      ]
     },
     "metadata": {},
     "output_type": "display_data"
    }
   ],
   "source": [
    "sns.displot(Q9_a['dist'], bins = 10, kde = True, alpha = 0.2)"
   ]
  },
  {
   "cell_type": "code",
   "execution_count": 91,
   "id": "614bcd91",
   "metadata": {},
   "outputs": [
    {
     "name": "stderr",
     "output_type": "stream",
     "text": [
      "C:\\Users\\LENOVO\\AppData\\Local\\Temp\\ipykernel_17432\\2310665337.py:2: MatplotlibDeprecationWarning: Auto-removal of overlapping axes is deprecated since 3.6 and will be removed two minor releases later; explicitly call ax.remove() as needed.\n",
      "  plt.subplot(121)\n"
     ]
    },
    {
     "data": {
      "image/png": "[encoded data removed]",
      "text/plain": [
       "<Figure size 1600x900 with 2 Axes>"
      ]
     },
     "metadata": {},
     "output_type": "display_data"
    }
   ],
   "source": [
    "plt.subplots(figsize = (16,9))\n",
    "plt.subplot(121)\n",
    "plt.boxplot(Q9_a['speed'])\n",
    "plt.subplot(122)\n",
    "plt.boxplot(Q9_a['dist'])\n",
    "plt.show()"
   ]
  },
  {
   "cell_type": "markdown",
   "id": "b2f5248c",
   "metadata": {},
   "source": [
    "__Skweness of the speed__"
   ]
  },
  {
   "cell_type": "code",
   "execution_count": 77,
   "id": "35ecaf15",
   "metadata": {},
   "outputs": [
    {
     "data": {
      "text/plain": [
       "-0.11395477012828319"
      ]
     },
     "execution_count": 77,
     "metadata": {},
     "output_type": "execute_result"
    }
   ],
   "source": [
    "stats.skew(Q9_a['speed'])"
   ]
  },
  {
   "cell_type": "markdown",
   "id": "c8f1c141",
   "metadata": {},
   "source": [
    "If the skewness is less than zero, it indicates that the left tail of the distribution is longer or fatter than the right tail. In other words, the distribution is skewed to the left. The mean is typically less than the median in a negatively skewed distribution"
   ]
  },
  {
   "cell_type": "code",
   "execution_count": 80,
   "id": "3e9d3fe2",
   "metadata": {},
   "outputs": [
    {
     "data": {
      "text/plain": [
       "15.4"
      ]
     },
     "execution_count": 80,
     "metadata": {},
     "output_type": "execute_result"
    }
   ],
   "source": [
    "np.mean(Q9_a['speed'])"
   ]
  },
  {
   "cell_type": "code",
   "execution_count": 81,
   "id": "0e640592",
   "metadata": {},
   "outputs": [
    {
     "data": {
      "text/plain": [
       "15.0"
      ]
     },
     "execution_count": 81,
     "metadata": {},
     "output_type": "execute_result"
    }
   ],
   "source": [
    "np.median(Q9_a['speed'])"
   ]
  },
  {
   "cell_type": "markdown",
   "id": "a01db342",
   "metadata": {},
   "source": [
    "Here, mean > median. But they're quite close. The data is not much skewed."
   ]
  },
  {
   "cell_type": "markdown",
   "id": "a08eccb8",
   "metadata": {},
   "source": [
    "__Kurtosis of the speed__"
   ]
  },
  {
   "cell_type": "code",
   "execution_count": 95,
   "id": "4b7105e0",
   "metadata": {},
   "outputs": [
    {
     "data": {
      "text/plain": [
       "-0.5771474239437371"
      ]
     },
     "execution_count": 95,
     "metadata": {},
     "output_type": "execute_result"
    }
   ],
   "source": [
    "stats.kurtosis(Q9_a['speed'])"
   ]
  },
  {
   "cell_type": "markdown",
   "id": "11ce681f",
   "metadata": {},
   "source": [
    "A distribution with negative kurtosis has lighter tails and a flatter peak than a normal distribution. It may suggest that the distribution has fewer outliers or is less prone to extreme values."
   ]
  },
  {
   "cell_type": "markdown",
   "id": "73d1cff8",
   "metadata": {},
   "source": [
    "__Skweness of the distance__"
   ]
  },
  {
   "cell_type": "code",
   "execution_count": 96,
   "id": "8bca06d1",
   "metadata": {},
   "outputs": [
    {
     "data": {
      "text/plain": [
       "0.7824835173114966"
      ]
     },
     "execution_count": 96,
     "metadata": {},
     "output_type": "execute_result"
    }
   ],
   "source": [
    "stats.skew(Q9_a['dist'])"
   ]
  },
  {
   "cell_type": "markdown",
   "id": "6285bc16",
   "metadata": {},
   "source": [
    "If the skewness is greater than zero, it indicates that the right tail of the distribution is longer or fatter than the left tail. In other words, the distribution is skewed to the right. The mean is typically greater than the median in a positively skewed distribution."
   ]
  },
  {
   "cell_type": "code",
   "execution_count": 101,
   "id": "4e98eb8e",
   "metadata": {},
   "outputs": [
    {
     "data": {
      "text/plain": [
       "42.98"
      ]
     },
     "execution_count": 101,
     "metadata": {},
     "output_type": "execute_result"
    }
   ],
   "source": [
    "np.mean(Q9_a['dist'])"
   ]
  },
  {
   "cell_type": "code",
   "execution_count": 100,
   "id": "95cbdccf",
   "metadata": {},
   "outputs": [
    {
     "data": {
      "text/plain": [
       "36.0"
      ]
     },
     "execution_count": 100,
     "metadata": {},
     "output_type": "execute_result"
    }
   ],
   "source": [
    "np.median(Q9_a['dist'])"
   ]
  },
  {
   "cell_type": "markdown",
   "id": "90bdcc17",
   "metadata": {},
   "source": [
    "Therefore, mean > median. Here, the data is quite visibly skewed. "
   ]
  },
  {
   "cell_type": "markdown",
   "id": "50d38702",
   "metadata": {},
   "source": [
    "__Kurtosis of the distance__"
   ]
  },
  {
   "cell_type": "code",
   "execution_count": 97,
   "id": "098b68a4",
   "metadata": {},
   "outputs": [
    {
     "data": {
      "text/plain": [
       "0.24801865717051808"
      ]
     },
     "execution_count": 97,
     "metadata": {},
     "output_type": "execute_result"
    }
   ],
   "source": [
    "stats.kurtosis(Q9_a['dist'])"
   ]
  },
  {
   "cell_type": "markdown",
   "id": "86f65e3c",
   "metadata": {},
   "source": [
    "A distribution with a positive kurtosis has heavier tails and a more pronounced peak than a normal distribution. It may indicate the presence of outliers or extreme values.\n",
    "\n",
    "And it is that case, like we can see that there does exists outliers."
   ]
  },
  {
   "cell_type": "markdown",
   "id": "f9785c07",
   "metadata": {},
   "source": [
    "# Question 9 (b)\n",
    "\n",
    "Calculate Skewness, Kurtosis & draw inferences on the following data\n",
    "\n",
    "a) SP and weight(WT)"
   ]
  },
  {
   "cell_type": "code",
   "execution_count": 102,
   "id": "17dfb5a3",
   "metadata": {},
   "outputs": [],
   "source": [
    "Q9_b = pd.read_csv('Q9_b.csv')"
   ]
  },
  {
   "cell_type": "code",
   "execution_count": 103,
   "id": "7971a3c9",
   "metadata": {},
   "outputs": [
    {
     "data": {
      "text/html": [
       "<div>\n",
       "<style scoped>\n",
       "    .dataframe tbody tr th:only-of-type {\n",
       "        vertical-align: middle;\n",
       "    }\n",
       "\n",
       "    .dataframe tbody tr th {\n",
       "        vertical-align: top;\n",
       "    }\n",
       "\n",
       "    .dataframe thead th {\n",
       "        text-align: right;\n",
       "    }\n",
       "</style>\n",
       "<table border=\"1\" class=\"dataframe\">\n",
       "  <thead>\n",
       "    <tr style=\"text-align: right;\">\n",
       "      <th></th>\n",
       "      <th>Unnamed: 0</th>\n",
       "      <th>SP</th>\n",
       "      <th>WT</th>\n",
       "    </tr>\n",
       "  </thead>\n",
       "  <tbody>\n",
       "    <tr>\n",
       "      <th>0</th>\n",
       "      <td>1</td>\n",
       "      <td>104.185353</td>\n",
       "      <td>28.762059</td>\n",
       "    </tr>\n",
       "    <tr>\n",
       "      <th>1</th>\n",
       "      <td>2</td>\n",
       "      <td>105.461264</td>\n",
       "      <td>30.466833</td>\n",
       "    </tr>\n",
       "    <tr>\n",
       "      <th>2</th>\n",
       "      <td>3</td>\n",
       "      <td>105.461264</td>\n",
       "      <td>30.193597</td>\n",
       "    </tr>\n",
       "    <tr>\n",
       "      <th>3</th>\n",
       "      <td>4</td>\n",
       "      <td>113.461264</td>\n",
       "      <td>30.632114</td>\n",
       "    </tr>\n",
       "    <tr>\n",
       "      <th>4</th>\n",
       "      <td>5</td>\n",
       "      <td>104.461264</td>\n",
       "      <td>29.889149</td>\n",
       "    </tr>\n",
       "  </tbody>\n",
       "</table>\n",
       "</div>"
      ],
      "text/plain": [
       "   Unnamed: 0          SP         WT\n",
       "0           1  104.185353  28.762059\n",
       "1           2  105.461264  30.466833\n",
       "2           3  105.461264  30.193597\n",
       "3           4  113.461264  30.632114\n",
       "4           5  104.461264  29.889149"
      ]
     },
     "execution_count": 103,
     "metadata": {},
     "output_type": "execute_result"
    }
   ],
   "source": [
    "Q9_b.head()"
   ]
  },
  {
   "cell_type": "code",
   "execution_count": 104,
   "id": "4d055079",
   "metadata": {},
   "outputs": [
    {
     "data": {
      "text/html": [
       "<div>\n",
       "<style scoped>\n",
       "    .dataframe tbody tr th:only-of-type {\n",
       "        vertical-align: middle;\n",
       "    }\n",
       "\n",
       "    .dataframe tbody tr th {\n",
       "        vertical-align: top;\n",
       "    }\n",
       "\n",
       "    .dataframe thead th {\n",
       "        text-align: right;\n",
       "    }\n",
       "</style>\n",
       "<table border=\"1\" class=\"dataframe\">\n",
       "  <thead>\n",
       "    <tr style=\"text-align: right;\">\n",
       "      <th></th>\n",
       "      <th>Unnamed: 0</th>\n",
       "      <th>SP</th>\n",
       "      <th>WT</th>\n",
       "    </tr>\n",
       "  </thead>\n",
       "  <tbody>\n",
       "    <tr>\n",
       "      <th>count</th>\n",
       "      <td>81.000000</td>\n",
       "      <td>81.000000</td>\n",
       "      <td>81.000000</td>\n",
       "    </tr>\n",
       "    <tr>\n",
       "      <th>mean</th>\n",
       "      <td>41.000000</td>\n",
       "      <td>121.540272</td>\n",
       "      <td>32.412577</td>\n",
       "    </tr>\n",
       "    <tr>\n",
       "      <th>std</th>\n",
       "      <td>23.526581</td>\n",
       "      <td>14.181432</td>\n",
       "      <td>7.492813</td>\n",
       "    </tr>\n",
       "    <tr>\n",
       "      <th>min</th>\n",
       "      <td>1.000000</td>\n",
       "      <td>99.564907</td>\n",
       "      <td>15.712859</td>\n",
       "    </tr>\n",
       "    <tr>\n",
       "      <th>25%</th>\n",
       "      <td>21.000000</td>\n",
       "      <td>113.829145</td>\n",
       "      <td>29.591768</td>\n",
       "    </tr>\n",
       "    <tr>\n",
       "      <th>50%</th>\n",
       "      <td>41.000000</td>\n",
       "      <td>118.208698</td>\n",
       "      <td>32.734518</td>\n",
       "    </tr>\n",
       "    <tr>\n",
       "      <th>75%</th>\n",
       "      <td>61.000000</td>\n",
       "      <td>126.404312</td>\n",
       "      <td>37.392524</td>\n",
       "    </tr>\n",
       "    <tr>\n",
       "      <th>max</th>\n",
       "      <td>81.000000</td>\n",
       "      <td>169.598513</td>\n",
       "      <td>52.997752</td>\n",
       "    </tr>\n",
       "  </tbody>\n",
       "</table>\n",
       "</div>"
      ],
      "text/plain": [
       "       Unnamed: 0          SP         WT\n",
       "count   81.000000   81.000000  81.000000\n",
       "mean    41.000000  121.540272  32.412577\n",
       "std     23.526581   14.181432   7.492813\n",
       "min      1.000000   99.564907  15.712859\n",
       "25%     21.000000  113.829145  29.591768\n",
       "50%     41.000000  118.208698  32.734518\n",
       "75%     61.000000  126.404312  37.392524\n",
       "max     81.000000  169.598513  52.997752"
      ]
     },
     "execution_count": 104,
     "metadata": {},
     "output_type": "execute_result"
    }
   ],
   "source": [
    "Q9_b.describe()"
   ]
  },
  {
   "cell_type": "code",
   "execution_count": 105,
   "id": "cfda175b",
   "metadata": {},
   "outputs": [
    {
     "name": "stdout",
     "output_type": "stream",
     "text": [
      "<class 'pandas.core.frame.DataFrame'>\n",
      "RangeIndex: 81 entries, 0 to 80\n",
      "Data columns (total 3 columns):\n",
      " #   Column      Non-Null Count  Dtype  \n",
      "---  ------      --------------  -----  \n",
      " 0   Unnamed: 0  81 non-null     int64  \n",
      " 1   SP          81 non-null     float64\n",
      " 2   WT          81 non-null     float64\n",
      "dtypes: float64(2), int64(1)\n",
      "memory usage: 2.0 KB\n"
     ]
    }
   ],
   "source": [
    "Q9_b.info()"
   ]
  },
  {
   "cell_type": "code",
   "execution_count": 106,
   "id": "79b3b96b",
   "metadata": {},
   "outputs": [
    {
     "name": "stderr",
     "output_type": "stream",
     "text": [
      "C:\\Users\\LENOVO\\anaconda3\\Lib\\site-packages\\seaborn\\axisgrid.py:118: UserWarning: The figure layout has changed to tight\n",
      "  self._figure.tight_layout(*args, **kwargs)\n"
     ]
    },
    {
     "data": {
      "text/plain": [
       "<seaborn.axisgrid.FacetGrid at 0x283d7d57b90>"
      ]
     },
     "execution_count": 106,
     "metadata": {},
     "output_type": "execute_result"
    },
    {
     "data": {
      "image/png": "[encoded data removed]",
      "text/plain": [
       "<Figure size 500x500 with 1 Axes>"
      ]
     },
     "metadata": {},
     "output_type": "display_data"
    }
   ],
   "source": [
    "sns.displot(Q9_b['SP'], bins = 10, kde = True, alpha = 0.2)"
   ]
  },
  {
   "cell_type": "code",
   "execution_count": 107,
   "id": "3b0c540f",
   "metadata": {},
   "outputs": [
    {
     "name": "stderr",
     "output_type": "stream",
     "text": [
      "C:\\Users\\LENOVO\\anaconda3\\Lib\\site-packages\\seaborn\\axisgrid.py:118: UserWarning: The figure layout has changed to tight\n",
      "  self._figure.tight_layout(*args, **kwargs)\n"
     ]
    },
    {
     "data": {
      "text/plain": [
       "<seaborn.axisgrid.FacetGrid at 0x283d7d50310>"
      ]
     },
     "execution_count": 107,
     "metadata": {},
     "output_type": "execute_result"
    },
    {
     "data": {
      "image/png": "[encoded data removed]",
      "text/plain": [
       "<Figure size 500x500 with 1 Axes>"
      ]
     },
     "metadata": {},
     "output_type": "display_data"
    }
   ],
   "source": [
    "sns.displot(Q9_b['WT'], bins = 10, kde = True, alpha = 0.2)"
   ]
  },
  {
   "cell_type": "code",
   "execution_count": 108,
   "id": "a89c8145",
   "metadata": {},
   "outputs": [
    {
     "name": "stderr",
     "output_type": "stream",
     "text": [
      "C:\\Users\\LENOVO\\AppData\\Local\\Temp\\ipykernel_17432\\712140036.py:2: MatplotlibDeprecationWarning: Auto-removal of overlapping axes is deprecated since 3.6 and will be removed two minor releases later; explicitly call ax.remove() as needed.\n",
      "  plt.subplot(121)\n"
     ]
    },
    {
     "data": {
      "image/png": "[encoded data removed]",
      "text/plain": [
       "<Figure size 1600x900 with 2 Axes>"
      ]
     },
     "metadata": {},
     "output_type": "display_data"
    }
   ],
   "source": [
    "plt.subplots(figsize = (16,9))\n",
    "plt.subplot(121)\n",
    "plt.boxplot(Q9_b['SP'])\n",
    "plt.subplot(122)\n",
    "plt.boxplot(Q9_b['WT'])\n",
    "plt.show()"
   ]
  },
  {
   "cell_type": "markdown",
   "id": "f430fd3c",
   "metadata": {},
   "source": [
    "__Skewness of the SP__"
   ]
  },
  {
   "cell_type": "code",
   "execution_count": 109,
   "id": "a1f2ad05",
   "metadata": {},
   "outputs": [
    {
     "data": {
      "text/plain": [
       "1.5814536794423764"
      ]
     },
     "execution_count": 109,
     "metadata": {},
     "output_type": "execute_result"
    }
   ],
   "source": [
    "stats.skew(Q9_b['SP'])"
   ]
  },
  {
   "cell_type": "markdown",
   "id": "6f48dff6",
   "metadata": {},
   "source": [
    " If the skewness is greater than zero, it indicates that the right tail of the distribution is longer or fatter than the left tail. The distribution is skewed to the right, and the mean is typically greater than the median in a positively skewed distribution"
   ]
  },
  {
   "cell_type": "code",
   "execution_count": 110,
   "id": "bf48e4e5",
   "metadata": {},
   "outputs": [
    {
     "data": {
      "text/plain": [
       "121.54027218037035"
      ]
     },
     "execution_count": 110,
     "metadata": {},
     "output_type": "execute_result"
    }
   ],
   "source": [
    "np.mean(Q9_b['SP'])"
   ]
  },
  {
   "cell_type": "code",
   "execution_count": 111,
   "id": "fc0b9219",
   "metadata": {},
   "outputs": [
    {
     "data": {
      "text/plain": [
       "118.2086984"
      ]
     },
     "execution_count": 111,
     "metadata": {},
     "output_type": "execute_result"
    }
   ],
   "source": [
    "np.median(Q9_b['SP'])"
   ]
  },
  {
   "cell_type": "markdown",
   "id": "5f1fca20",
   "metadata": {},
   "source": [
    "Here, mean > median. And also as we can see from the graph, the data is skewed"
   ]
  },
  {
   "cell_type": "markdown",
   "id": "506ad5d4",
   "metadata": {},
   "source": [
    "__Kutosis of the SP__"
   ]
  },
  {
   "cell_type": "code",
   "execution_count": 112,
   "id": "adcca04f",
   "metadata": {},
   "outputs": [
    {
     "data": {
      "text/plain": [
       "0.8194658792266849"
      ]
     },
     "execution_count": 112,
     "metadata": {},
     "output_type": "execute_result"
    }
   ],
   "source": [
    "stats.kurtosis(Q9_b['WT'])"
   ]
  },
  {
   "cell_type": "markdown",
   "id": "12884594",
   "metadata": {},
   "source": [
    "A distribution with a positive kurtosis has heavier tails and a more pronounced peak than a normal distribution. It may indicate the presence of outliers or extreme values.\n",
    "\n",
    "And it is that case, like we can see that there does exists outliers."
   ]
  },
  {
   "cell_type": "markdown",
   "id": "ec6b2271",
   "metadata": {},
   "source": [
    "__Skewness of the WT__"
   ]
  },
  {
   "cell_type": "code",
   "execution_count": 113,
   "id": "271f22a4",
   "metadata": {},
   "outputs": [
    {
     "data": {
      "text/plain": [
       "-0.6033099322115126"
      ]
     },
     "execution_count": 113,
     "metadata": {},
     "output_type": "execute_result"
    }
   ],
   "source": [
    "stats.skew(Q9_b['WT'])"
   ]
  },
  {
   "cell_type": "markdown",
   "id": "0f016e18",
   "metadata": {},
   "source": [
    "If the skewness is less than zero, it indicates that the left tail of the distribution is longer or fatter than the right tail. In other words, the distribution is skewed to the left. The mean is typically less than the median in a negatively skewed distribution."
   ]
  },
  {
   "cell_type": "code",
   "execution_count": 114,
   "id": "8a24fe1a",
   "metadata": {},
   "outputs": [
    {
     "data": {
      "text/plain": [
       "32.412576910246905"
      ]
     },
     "execution_count": 114,
     "metadata": {},
     "output_type": "execute_result"
    }
   ],
   "source": [
    "np.mean(Q9_b['WT'])"
   ]
  },
  {
   "cell_type": "code",
   "execution_count": 115,
   "id": "a0a63d13",
   "metadata": {},
   "outputs": [
    {
     "data": {
      "text/plain": [
       "32.73451818"
      ]
     },
     "execution_count": 115,
     "metadata": {},
     "output_type": "execute_result"
    }
   ],
   "source": [
    "np.median(Q9_b['WT'])"
   ]
  },
  {
   "cell_type": "markdown",
   "id": "e20915ca",
   "metadata": {},
   "source": [
    "Here, mean < media. Though slightly. "
   ]
  },
  {
   "cell_type": "markdown",
   "id": "bd8699fb",
   "metadata": {},
   "source": [
    "__Kurtosis of the WT__"
   ]
  },
  {
   "cell_type": "code",
   "execution_count": 116,
   "id": "9b589e35",
   "metadata": {},
   "outputs": [
    {
     "data": {
      "text/plain": [
       "0.8194658792266849"
      ]
     },
     "execution_count": 116,
     "metadata": {},
     "output_type": "execute_result"
    }
   ],
   "source": [
    "stats.kurtosis(Q9_b['WT'])"
   ]
  },
  {
   "cell_type": "markdown",
   "id": "8ebc6961",
   "metadata": {},
   "source": [
    "A distribution with a positive kurtosis has heavier tails and a more pronounced peak than a normal distribution. It may indicate the presence of outliers or extreme values.\n",
    "\n",
    "And it is that case, like we can see that there does exists outliers."
   ]
  },
  {
   "cell_type": "markdown",
   "id": "1518f464",
   "metadata": {},
   "source": [
    "# Question 11:\n",
    "\n",
    "Suppose we want to estimate the average weight of an adult male in    Mexico. We draw a random sample of 2,000 men from a population of 3,000,000 men and weigh them. We find that the average person in our sample weighs 200 pounds, and the standard deviation of the sample is 30 pounds. Calculate 94%,98%,96% confidence interval?"
   ]
  },
  {
   "cell_type": "code",
   "execution_count": 119,
   "id": "342c7d30",
   "metadata": {},
   "outputs": [
    {
     "name": "stdout",
     "output_type": "stream",
     "text": [
      "[199. 201.]\n",
      "(198.7376089443071, 201.2623910556929)\n"
     ]
    }
   ],
   "source": [
    "conf_94 =stats.t.interval(0.94, df=1999, loc=200, scale=30/np.sqrt(2000))\n",
    "print(np.round(conf_94,0))\n",
    "print(conf_94)"
   ]
  },
  {
   "cell_type": "code",
   "execution_count": 122,
   "id": "701ead6b",
   "metadata": {},
   "outputs": [
    {
     "name": "stdout",
     "output_type": "stream",
     "text": [
      "[198. 202.]\n",
      "(198.4381860483216, 201.5618139516784)\n"
     ]
    }
   ],
   "source": [
    "conf_98 =stats.t.interval(0.98, df=1999, loc=200, scale=30/np.sqrt(2000))\n",
    "print(np.round(conf_98,0))\n",
    "print(conf_98)"
   ]
  },
  {
   "cell_type": "code",
   "execution_count": 123,
   "id": "2937ef32",
   "metadata": {},
   "outputs": [
    {
     "name": "stdout",
     "output_type": "stream",
     "text": [
      "[199. 201.]\n",
      "(198.6214037429732, 201.3785962570268)\n"
     ]
    }
   ],
   "source": [
    "conf_96 =stats.t.interval(0.96, df=1999, loc=200, scale=30/np.sqrt(2000))\n",
    "print(np.round(conf_96,0))\n",
    "print(conf_96)"
   ]
  },
  {
   "cell_type": "markdown",
   "id": "117961ca",
   "metadata": {},
   "source": [
    "# Question 12:"
   ]
  },
  {
   "cell_type": "code",
   "execution_count": 133,
   "id": "cc467fcc",
   "metadata": {},
   "outputs": [],
   "source": [
    "data = [34,36,36,38,38,39,39,40,40,41,41,41,41,42,42,45,49,56]"
   ]
  },
  {
   "cell_type": "code",
   "execution_count": 139,
   "id": "94a653ea",
   "metadata": {},
   "outputs": [
    {
     "data": {
      "text/plain": [
       "41.0"
      ]
     },
     "execution_count": 139,
     "metadata": {},
     "output_type": "execute_result"
    }
   ],
   "source": [
    "np.mean(data)"
   ]
  },
  {
   "cell_type": "code",
   "execution_count": 140,
   "id": "488f8c20",
   "metadata": {},
   "outputs": [
    {
     "data": {
      "text/plain": [
       "40.5"
      ]
     },
     "execution_count": 140,
     "metadata": {},
     "output_type": "execute_result"
    }
   ],
   "source": [
    "np.median(data)"
   ]
  },
  {
   "cell_type": "code",
   "execution_count": 141,
   "id": "d26e1e76",
   "metadata": {},
   "outputs": [
    {
     "data": {
      "text/plain": [
       "ModeResult(mode=41, count=4)"
      ]
     },
     "execution_count": 141,
     "metadata": {},
     "output_type": "execute_result"
    }
   ],
   "source": [
    "stats.mode(data)"
   ]
  },
  {
   "cell_type": "code",
   "execution_count": 142,
   "id": "070c4a31",
   "metadata": {},
   "outputs": [
    {
     "data": {
      "text/plain": [
       "25.529411764705884"
      ]
     },
     "execution_count": 142,
     "metadata": {},
     "output_type": "execute_result"
    }
   ],
   "source": [
    "st.variance(data)"
   ]
  },
  {
   "cell_type": "code",
   "execution_count": 143,
   "id": "81d5f5f9",
   "metadata": {},
   "outputs": [
    {
     "data": {
      "text/plain": [
       "5.05266382858645"
      ]
     },
     "execution_count": 143,
     "metadata": {},
     "output_type": "execute_result"
    }
   ],
   "source": [
    "st.stdev(data)"
   ]
  },
  {
   "cell_type": "markdown",
   "id": "a020006f",
   "metadata": {},
   "source": [
    "# Question 20:\n",
    "\n",
    "Calculate the probability of MPG of Cars for the below cases.\n",
    "MPG <- Cars$MPG \n",
    "\n",
    "a.\tP(MPG>38)\n",
    "\n",
    "b.\tP(MPG<40)\n",
    "\n",
    "c.\tP (20<MPG<50)\n"
   ]
  },
  {
   "cell_type": "code",
   "execution_count": 144,
   "id": "df00205b",
   "metadata": {},
   "outputs": [],
   "source": [
    "Cars = pd.read_csv('Cars.csv')"
   ]
  },
  {
   "cell_type": "code",
   "execution_count": 145,
   "id": "c5d2c462",
   "metadata": {},
   "outputs": [
    {
     "data": {
      "text/html": [
       "<div>\n",
       "<style scoped>\n",
       "    .dataframe tbody tr th:only-of-type {\n",
       "        vertical-align: middle;\n",
       "    }\n",
       "\n",
       "    .dataframe tbody tr th {\n",
       "        vertical-align: top;\n",
       "    }\n",
       "\n",
       "    .dataframe thead th {\n",
       "        text-align: right;\n",
       "    }\n",
       "</style>\n",
       "<table border=\"1\" class=\"dataframe\">\n",
       "  <thead>\n",
       "    <tr style=\"text-align: right;\">\n",
       "      <th></th>\n",
       "      <th>HP</th>\n",
       "      <th>MPG</th>\n",
       "      <th>VOL</th>\n",
       "      <th>SP</th>\n",
       "      <th>WT</th>\n",
       "    </tr>\n",
       "  </thead>\n",
       "  <tbody>\n",
       "    <tr>\n",
       "      <th>0</th>\n",
       "      <td>49</td>\n",
       "      <td>53.700681</td>\n",
       "      <td>89</td>\n",
       "      <td>104.185353</td>\n",
       "      <td>28.762059</td>\n",
       "    </tr>\n",
       "    <tr>\n",
       "      <th>1</th>\n",
       "      <td>55</td>\n",
       "      <td>50.013401</td>\n",
       "      <td>92</td>\n",
       "      <td>105.461264</td>\n",
       "      <td>30.466833</td>\n",
       "    </tr>\n",
       "    <tr>\n",
       "      <th>2</th>\n",
       "      <td>55</td>\n",
       "      <td>50.013401</td>\n",
       "      <td>92</td>\n",
       "      <td>105.461264</td>\n",
       "      <td>30.193597</td>\n",
       "    </tr>\n",
       "    <tr>\n",
       "      <th>3</th>\n",
       "      <td>70</td>\n",
       "      <td>45.696322</td>\n",
       "      <td>92</td>\n",
       "      <td>113.461264</td>\n",
       "      <td>30.632114</td>\n",
       "    </tr>\n",
       "    <tr>\n",
       "      <th>4</th>\n",
       "      <td>53</td>\n",
       "      <td>50.504232</td>\n",
       "      <td>92</td>\n",
       "      <td>104.461264</td>\n",
       "      <td>29.889149</td>\n",
       "    </tr>\n",
       "  </tbody>\n",
       "</table>\n",
       "</div>"
      ],
      "text/plain": [
       "   HP        MPG  VOL          SP         WT\n",
       "0  49  53.700681   89  104.185353  28.762059\n",
       "1  55  50.013401   92  105.461264  30.466833\n",
       "2  55  50.013401   92  105.461264  30.193597\n",
       "3  70  45.696322   92  113.461264  30.632114\n",
       "4  53  50.504232   92  104.461264  29.889149"
      ]
     },
     "execution_count": 145,
     "metadata": {},
     "output_type": "execute_result"
    }
   ],
   "source": [
    "Cars.head()"
   ]
  },
  {
   "cell_type": "code",
   "execution_count": 148,
   "id": "4fbc918a",
   "metadata": {},
   "outputs": [
    {
     "data": {
      "text/plain": [
       "count    81.000000\n",
       "mean     34.422076\n",
       "std       9.131445\n",
       "min      12.101263\n",
       "25%      27.856252\n",
       "50%      35.152727\n",
       "75%      39.531633\n",
       "max      53.700681\n",
       "Name: MPG, dtype: float64"
      ]
     },
     "execution_count": 148,
     "metadata": {},
     "output_type": "execute_result"
    }
   ],
   "source": [
    "Cars['MPG'].describe()"
   ]
  },
  {
   "cell_type": "code",
   "execution_count": 149,
   "id": "3bea2c61",
   "metadata": {},
   "outputs": [
    {
     "name": "stdout",
     "output_type": "stream",
     "text": [
      "<class 'pandas.core.series.Series'>\n",
      "RangeIndex: 81 entries, 0 to 80\n",
      "Series name: MPG\n",
      "Non-Null Count  Dtype  \n",
      "--------------  -----  \n",
      "81 non-null     float64\n",
      "dtypes: float64(1)\n",
      "memory usage: 780.0 bytes\n"
     ]
    }
   ],
   "source": [
    "Cars['MPG'].info()"
   ]
  },
  {
   "cell_type": "code",
   "execution_count": 151,
   "id": "df69d5ee",
   "metadata": {},
   "outputs": [
    {
     "data": {
      "text/plain": [
       "34.42207572802469"
      ]
     },
     "execution_count": 151,
     "metadata": {},
     "output_type": "execute_result"
    }
   ],
   "source": [
    "mean = Cars['MPG'].mean()\n",
    "mean"
   ]
  },
  {
   "cell_type": "code",
   "execution_count": 153,
   "id": "e459bb4c",
   "metadata": {},
   "outputs": [
    {
     "data": {
      "text/plain": [
       "9.131444731795982"
      ]
     },
     "execution_count": 153,
     "metadata": {},
     "output_type": "execute_result"
    }
   ],
   "source": [
    "std = Cars['MPG'].std()\n",
    "std"
   ]
  },
  {
   "cell_type": "code",
   "execution_count": 155,
   "id": "c8ed5da3",
   "metadata": {},
   "outputs": [
    {
     "data": {
      "text/plain": [
       "0.348"
      ]
     },
     "execution_count": 155,
     "metadata": {},
     "output_type": "execute_result"
    }
   ],
   "source": [
    "# Probability of MPG > 38\n",
    "\n",
    "np.round(1 - stats.norm.cdf(38, loc = mean, scale = std),3)"
   ]
  },
  {
   "cell_type": "code",
   "execution_count": 156,
   "id": "361e5957",
   "metadata": {},
   "outputs": [
    {
     "data": {
      "text/plain": [
       "0.729"
      ]
     },
     "execution_count": 156,
     "metadata": {},
     "output_type": "execute_result"
    }
   ],
   "source": [
    "# Probability of MPG < 40\n",
    "\n",
    "np.round(stats.norm.cdf(40, loc = mean, scale = std),3)"
   ]
  },
  {
   "cell_type": "code",
   "execution_count": 163,
   "id": "4371cef0",
   "metadata": {},
   "outputs": [
    {
     "data": {
      "text/plain": [
       "0.013000000000000012"
      ]
     },
     "execution_count": 163,
     "metadata": {},
     "output_type": "execute_result"
    }
   ],
   "source": [
    "# Probability of 20 < MPG < 50\n",
    "\n",
    "p_greaterThan_20 = np.round(1 - stats.norm.cdf(20, loc = mean, scale = std),3)\n",
    "p_lessThan50 = np.round(stats.norm.cdf(50, loc = mean, scale = std),3)\n",
    "\n",
    "p_lessThan50 - p_greaterThan_20"
   ]
  },
  {
   "cell_type": "code",
   "execution_count": 161,
   "id": "7344b283",
   "metadata": {},
   "outputs": [
    {
     "data": {
      "text/plain": [
       "0.943"
      ]
     },
     "execution_count": 161,
     "metadata": {},
     "output_type": "execute_result"
    }
   ],
   "source": [
    "p_greaterThan_20"
   ]
  },
  {
   "cell_type": "code",
   "execution_count": 162,
   "id": "fd3f7af4",
   "metadata": {},
   "outputs": [
    {
     "data": {
      "text/plain": [
       "0.956"
      ]
     },
     "execution_count": 162,
     "metadata": {},
     "output_type": "execute_result"
    }
   ],
   "source": [
    "p_lessThan50"
   ]
  },
  {
   "cell_type": "markdown",
   "id": "66e857ec",
   "metadata": {},
   "source": [
    "# Questipon 21: \n",
    "\n",
    "Check whether the data follows normal distribution\n",
    "a)\tCheck whether the MPG of Cars follows Normal Distribution \n",
    "        Dataset: Cars.csv\n",
    "\n",
    "\n",
    "We can check this using two methods:\n",
    "1. Visual:  Histogram, boxplot and QQ plot \n",
    "2. Descriptive statistics: skewness and Kurtosis"
   ]
  },
  {
   "cell_type": "code",
   "execution_count": 205,
   "id": "24efb320",
   "metadata": {},
   "outputs": [
    {
     "name": "stderr",
     "output_type": "stream",
     "text": [
      "C:\\Users\\LENOVO\\anaconda3\\Lib\\site-packages\\seaborn\\axisgrid.py:118: UserWarning: The figure layout has changed to tight\n",
      "  self._figure.tight_layout(*args, **kwargs)\n"
     ]
    },
    {
     "data": {
      "image/png": "[encoded data removed]",
      "text/plain": [
       "<Figure size 500x500 with 1 Axes>"
      ]
     },
     "metadata": {},
     "output_type": "display_data"
    }
   ],
   "source": [
    "sns.displot(Cars['MPG'], kde = True, bins = 10, alpha = 0.2)\n",
    "plt.savefig('mpg1.png')\n",
    "plt.show()"
   ]
  },
  {
   "cell_type": "code",
   "execution_count": 206,
   "id": "b7ad249d",
   "metadata": {
    "scrolled": false
   },
   "outputs": [
    {
     "data": {
      "image/png": "[encoded data removed]",
      "text/plain": [
       "<Figure size 640x480 with 1 Axes>"
      ]
     },
     "metadata": {},
     "output_type": "display_data"
    }
   ],
   "source": [
    "plt.boxplot(Cars['MPG'])\n",
    "plt.savefig('mpg2.png')\n",
    "plt.show()"
   ]
  },
  {
   "cell_type": "markdown",
   "id": "c4a07761",
   "metadata": {},
   "source": [
    "To me, data seems to be a little skewed to the left. Not much, but slightly. "
   ]
  },
  {
   "cell_type": "code",
   "execution_count": 207,
   "id": "e73d09cf",
   "metadata": {},
   "outputs": [
    {
     "data": {
      "image/png": "[encoded data removed]",
      "text/plain": [
       "<Figure size 640x480 with 1 Axes>"
      ]
     },
     "metadata": {},
     "output_type": "display_data"
    }
   ],
   "source": [
    "stats.probplot(Cars['MPG'], dist = 'norm', plot = plt)\n",
    "plt.xlabel('MPG')\n",
    "plt.savefig('mpg3.png')\n",
    "plt.show()"
   ]
  },
  {
   "cell_type": "markdown",
   "id": "f396fa3b",
   "metadata": {},
   "source": [
    "QQ plot is giving about a straight line. \n",
    "\n",
    "Now, let us also check out things with descriptive statistics. "
   ]
  },
  {
   "cell_type": "code",
   "execution_count": 171,
   "id": "08387a09",
   "metadata": {},
   "outputs": [
    {
     "data": {
      "text/plain": [
       "-0.17463433818755686"
      ]
     },
     "execution_count": 171,
     "metadata": {},
     "output_type": "execute_result"
    }
   ],
   "source": [
    "stats.skew(Cars['MPG'])"
   ]
  },
  {
   "cell_type": "code",
   "execution_count": 172,
   "id": "822a07b0",
   "metadata": {},
   "outputs": [
    {
     "data": {
      "text/plain": [
       "-0.6477383960245926"
      ]
     },
     "execution_count": 172,
     "metadata": {},
     "output_type": "execute_result"
    }
   ],
   "source": [
    "stats.kurtosis(Cars['MPG'])"
   ]
  },
  {
   "cell_type": "markdown",
   "id": "5bd3e12c",
   "metadata": {},
   "source": [
    "The values of skewness and kurtosis also shows that the given data is not perfectly normally distributed. But it is quite close.\n",
    "\n",
    "\n",
    "__Now let us look at the other data set__\n",
    "\n",
    "b)\tCheck Whether the Adipose Tissue (AT) and Waist Circumference(Waist)  from wc-at data set  follows Normal Distribution \n",
    "       Dataset: wc-at.csv\n"
   ]
  },
  {
   "cell_type": "code",
   "execution_count": 173,
   "id": "d2e7d612",
   "metadata": {},
   "outputs": [],
   "source": [
    "dnew = pd.read_csv('wc-at.csv')"
   ]
  },
  {
   "cell_type": "code",
   "execution_count": 174,
   "id": "f9a99737",
   "metadata": {},
   "outputs": [
    {
     "data": {
      "text/html": [
       "<div>\n",
       "<style scoped>\n",
       "    .dataframe tbody tr th:only-of-type {\n",
       "        vertical-align: middle;\n",
       "    }\n",
       "\n",
       "    .dataframe tbody tr th {\n",
       "        vertical-align: top;\n",
       "    }\n",
       "\n",
       "    .dataframe thead th {\n",
       "        text-align: right;\n",
       "    }\n",
       "</style>\n",
       "<table border=\"1\" class=\"dataframe\">\n",
       "  <thead>\n",
       "    <tr style=\"text-align: right;\">\n",
       "      <th></th>\n",
       "      <th>Waist</th>\n",
       "      <th>AT</th>\n",
       "    </tr>\n",
       "  </thead>\n",
       "  <tbody>\n",
       "    <tr>\n",
       "      <th>0</th>\n",
       "      <td>74.75</td>\n",
       "      <td>25.72</td>\n",
       "    </tr>\n",
       "    <tr>\n",
       "      <th>1</th>\n",
       "      <td>72.60</td>\n",
       "      <td>25.89</td>\n",
       "    </tr>\n",
       "    <tr>\n",
       "      <th>2</th>\n",
       "      <td>81.80</td>\n",
       "      <td>42.60</td>\n",
       "    </tr>\n",
       "    <tr>\n",
       "      <th>3</th>\n",
       "      <td>83.95</td>\n",
       "      <td>42.80</td>\n",
       "    </tr>\n",
       "    <tr>\n",
       "      <th>4</th>\n",
       "      <td>74.65</td>\n",
       "      <td>29.84</td>\n",
       "    </tr>\n",
       "  </tbody>\n",
       "</table>\n",
       "</div>"
      ],
      "text/plain": [
       "   Waist     AT\n",
       "0  74.75  25.72\n",
       "1  72.60  25.89\n",
       "2  81.80  42.60\n",
       "3  83.95  42.80\n",
       "4  74.65  29.84"
      ]
     },
     "execution_count": 174,
     "metadata": {},
     "output_type": "execute_result"
    }
   ],
   "source": [
    "dnew.head()"
   ]
  },
  {
   "cell_type": "code",
   "execution_count": 175,
   "id": "8dbfd2ad",
   "metadata": {},
   "outputs": [
    {
     "data": {
      "text/html": [
       "<div>\n",
       "<style scoped>\n",
       "    .dataframe tbody tr th:only-of-type {\n",
       "        vertical-align: middle;\n",
       "    }\n",
       "\n",
       "    .dataframe tbody tr th {\n",
       "        vertical-align: top;\n",
       "    }\n",
       "\n",
       "    .dataframe thead th {\n",
       "        text-align: right;\n",
       "    }\n",
       "</style>\n",
       "<table border=\"1\" class=\"dataframe\">\n",
       "  <thead>\n",
       "    <tr style=\"text-align: right;\">\n",
       "      <th></th>\n",
       "      <th>Waist</th>\n",
       "      <th>AT</th>\n",
       "    </tr>\n",
       "  </thead>\n",
       "  <tbody>\n",
       "    <tr>\n",
       "      <th>count</th>\n",
       "      <td>109.000000</td>\n",
       "      <td>109.000000</td>\n",
       "    </tr>\n",
       "    <tr>\n",
       "      <th>mean</th>\n",
       "      <td>91.901835</td>\n",
       "      <td>101.894037</td>\n",
       "    </tr>\n",
       "    <tr>\n",
       "      <th>std</th>\n",
       "      <td>13.559116</td>\n",
       "      <td>57.294763</td>\n",
       "    </tr>\n",
       "    <tr>\n",
       "      <th>min</th>\n",
       "      <td>63.500000</td>\n",
       "      <td>11.440000</td>\n",
       "    </tr>\n",
       "    <tr>\n",
       "      <th>25%</th>\n",
       "      <td>80.000000</td>\n",
       "      <td>50.880000</td>\n",
       "    </tr>\n",
       "    <tr>\n",
       "      <th>50%</th>\n",
       "      <td>90.800000</td>\n",
       "      <td>96.540000</td>\n",
       "    </tr>\n",
       "    <tr>\n",
       "      <th>75%</th>\n",
       "      <td>104.000000</td>\n",
       "      <td>137.000000</td>\n",
       "    </tr>\n",
       "    <tr>\n",
       "      <th>max</th>\n",
       "      <td>121.000000</td>\n",
       "      <td>253.000000</td>\n",
       "    </tr>\n",
       "  </tbody>\n",
       "</table>\n",
       "</div>"
      ],
      "text/plain": [
       "            Waist          AT\n",
       "count  109.000000  109.000000\n",
       "mean    91.901835  101.894037\n",
       "std     13.559116   57.294763\n",
       "min     63.500000   11.440000\n",
       "25%     80.000000   50.880000\n",
       "50%     90.800000   96.540000\n",
       "75%    104.000000  137.000000\n",
       "max    121.000000  253.000000"
      ]
     },
     "execution_count": 175,
     "metadata": {},
     "output_type": "execute_result"
    }
   ],
   "source": [
    "dnew.describe()"
   ]
  },
  {
   "cell_type": "code",
   "execution_count": 176,
   "id": "b441db78",
   "metadata": {},
   "outputs": [
    {
     "name": "stdout",
     "output_type": "stream",
     "text": [
      "<class 'pandas.core.frame.DataFrame'>\n",
      "RangeIndex: 109 entries, 0 to 108\n",
      "Data columns (total 2 columns):\n",
      " #   Column  Non-Null Count  Dtype  \n",
      "---  ------  --------------  -----  \n",
      " 0   Waist   109 non-null    float64\n",
      " 1   AT      109 non-null    float64\n",
      "dtypes: float64(2)\n",
      "memory usage: 1.8 KB\n"
     ]
    }
   ],
   "source": [
    "dnew.info()"
   ]
  },
  {
   "cell_type": "markdown",
   "id": "5457f9c2",
   "metadata": {},
   "source": [
    "Now, let us first check for the Adipose Tissue data set"
   ]
  },
  {
   "cell_type": "code",
   "execution_count": 208,
   "id": "e687a88d",
   "metadata": {},
   "outputs": [
    {
     "name": "stderr",
     "output_type": "stream",
     "text": [
      "C:\\Users\\LENOVO\\anaconda3\\Lib\\site-packages\\seaborn\\axisgrid.py:118: UserWarning: The figure layout has changed to tight\n",
      "  self._figure.tight_layout(*args, **kwargs)\n"
     ]
    },
    {
     "data": {
      "image/png": "[encoded data removed]",
      "text/plain": [
       "<Figure size 500x500 with 1 Axes>"
      ]
     },
     "metadata": {},
     "output_type": "display_data"
    }
   ],
   "source": [
    "sns.displot(dnew['AT'], kde = True, bins = 20, alpha = 0.1)\n",
    "plt.savefig('at1.png')\n",
    "plt.show()"
   ]
  },
  {
   "cell_type": "code",
   "execution_count": 209,
   "id": "8b787fbc",
   "metadata": {},
   "outputs": [
    {
     "data": {
      "image/png": "[encoded data removed]",
      "text/plain": [
       "<Figure size 640x480 with 1 Axes>"
      ]
     },
     "metadata": {},
     "output_type": "display_data"
    }
   ],
   "source": [
    "plt.boxplot(dnew['AT'])\n",
    "plt.savefig('at2.png')\n",
    "plt.show()"
   ]
  },
  {
   "cell_type": "markdown",
   "id": "5e4694dc",
   "metadata": {},
   "source": [
    "Clearly, the data is skewed. There is a positive skew in the data."
   ]
  },
  {
   "cell_type": "code",
   "execution_count": 210,
   "id": "5de871b5",
   "metadata": {},
   "outputs": [
    {
     "data": {
      "image/png": "[encoded data removed]",
      "text/plain": [
       "<Figure size 640x480 with 1 Axes>"
      ]
     },
     "metadata": {},
     "output_type": "display_data"
    }
   ],
   "source": [
    "stats.probplot(dnew['AT'], dist = 'norm', plot = plt)\n",
    "plt.savefig('at3.png')\n",
    "plt.show()"
   ]
  },
  {
   "cell_type": "code",
   "execution_count": 184,
   "id": "7dedc326",
   "metadata": {},
   "outputs": [
    {
     "data": {
      "text/plain": [
       "0.5767896975987847"
      ]
     },
     "execution_count": 184,
     "metadata": {},
     "output_type": "execute_result"
    }
   ],
   "source": [
    "stats.skew(dnew['AT'])"
   ]
  },
  {
   "cell_type": "code",
   "execution_count": 186,
   "id": "9993c3ec",
   "metadata": {},
   "outputs": [
    {
     "data": {
      "text/plain": [
       "-0.3271884938021854"
      ]
     },
     "execution_count": 186,
     "metadata": {},
     "output_type": "execute_result"
    }
   ],
   "source": [
    "stats.kurtosis(dnew['AT'])"
   ]
  },
  {
   "cell_type": "markdown",
   "id": "ba1839e4",
   "metadata": {},
   "source": [
    "So, we can conclude that the data is not normally distributed.\n",
    "\n",
    "__now let us check the waist circumference__"
   ]
  },
  {
   "cell_type": "code",
   "execution_count": 187,
   "id": "05f5ea5c",
   "metadata": {},
   "outputs": [
    {
     "data": {
      "text/plain": [
       "0    74.75\n",
       "1    72.60\n",
       "2    81.80\n",
       "3    83.95\n",
       "4    74.65\n",
       "Name: Waist, dtype: float64"
      ]
     },
     "execution_count": 187,
     "metadata": {},
     "output_type": "execute_result"
    }
   ],
   "source": [
    "dnew['Waist'].head()"
   ]
  },
  {
   "cell_type": "code",
   "execution_count": 211,
   "id": "23140d03",
   "metadata": {},
   "outputs": [
    {
     "name": "stderr",
     "output_type": "stream",
     "text": [
      "C:\\Users\\LENOVO\\anaconda3\\Lib\\site-packages\\seaborn\\axisgrid.py:118: UserWarning: The figure layout has changed to tight\n",
      "  self._figure.tight_layout(*args, **kwargs)\n"
     ]
    },
    {
     "data": {
      "image/png": "[encoded data removed]",
      "text/plain": [
       "<Figure size 500x500 with 1 Axes>"
      ]
     },
     "metadata": {},
     "output_type": "display_data"
    }
   ],
   "source": [
    "sns.displot(dnew['Waist'], kde = True, alpha = 0.2, bins = 20)\n",
    "plt.savefig('wc1.png')\n",
    "plt.show()"
   ]
  },
  {
   "cell_type": "markdown",
   "id": "9fcaf1b7",
   "metadata": {},
   "source": [
    "From, the histogram we can clearly say that the data is not normally distributed."
   ]
  },
  {
   "cell_type": "code",
   "execution_count": 212,
   "id": "6521b719",
   "metadata": {},
   "outputs": [
    {
     "data": {
      "image/png": "[encoded data removed]",
      "text/plain": [
       "<Figure size 640x480 with 1 Axes>"
      ]
     },
     "metadata": {},
     "output_type": "display_data"
    }
   ],
   "source": [
    "plt.boxplot(dnew['Waist'])\n",
    "plt.savefig('wc2.png')\n",
    "plt.show()"
   ]
  },
  {
   "cell_type": "code",
   "execution_count": 204,
   "id": "b38a16f0",
   "metadata": {},
   "outputs": [
    {
     "data": {
      "image/png": "[encoded data removed]",
      "text/plain": [
       "<Figure size 640x480 with 1 Axes>"
      ]
     },
     "metadata": {},
     "output_type": "display_data"
    }
   ],
   "source": [
    "stats.probplot(dnew['Waist'], dist = 'norm', plot = plt)\n",
    "plt.savefig('wc3.png')\n",
    "plt.show()"
   ]
  },
  {
   "cell_type": "code",
   "execution_count": 193,
   "id": "55c3c677",
   "metadata": {},
   "outputs": [
    {
     "data": {
      "text/plain": [
       "0.1322041763592883"
      ]
     },
     "execution_count": 193,
     "metadata": {},
     "output_type": "execute_result"
    }
   ],
   "source": [
    "stats.skew(dnew['Waist'])"
   ]
  },
  {
   "cell_type": "code",
   "execution_count": 194,
   "id": "ead1a0b3",
   "metadata": {},
   "outputs": [
    {
     "data": {
      "text/plain": [
       "-1.1072764806858817"
      ]
     },
     "execution_count": 194,
     "metadata": {},
     "output_type": "execute_result"
    }
   ],
   "source": [
    "stats.kurtosis(dnew['Waist'])"
   ]
  },
  {
   "cell_type": "markdown",
   "id": "2a560fb5",
   "metadata": {},
   "source": [
    "Waist circumference is not normally distributed."
   ]
  },
  {
   "cell_type": "markdown",
   "id": "944e7098",
   "metadata": {},
   "source": [
    "# Question 22:\n",
    "\n",
    "Calculate the Z scores of 90% confidence interval,94% confidence interval, 60% confidence interval.\n",
    "\n",
    "So, here we are going to consider a normal standard distribution. So, for that we are going to use norm.ppf for that.\n",
    "\n",
    "\n",
    "a) 90% confidence level"
   ]
  },
  {
   "cell_type": "code",
   "execution_count": 215,
   "id": "73543d7c",
   "metadata": {},
   "outputs": [
    {
     "name": "stdout",
     "output_type": "stream",
     "text": [
      "z-score for a 90% confidence interval: 1.64\n"
     ]
    }
   ],
   "source": [
    "confidence_level = 0.90\n",
    "\n",
    "#calculate the z-score for a two-tailed 90% confidence interval \n",
    "z_score = stats.norm.ppf((1 + confidence_level)/2)\n",
    "print(f'z-score for a 90% confidence interval: {z_score:.2f}')"
   ]
  },
  {
   "cell_type": "markdown",
   "id": "bcc6591a",
   "metadata": {},
   "source": [
    "b) 94% confidence interval"
   ]
  },
  {
   "cell_type": "code",
   "execution_count": 221,
   "id": "ee824757",
   "metadata": {},
   "outputs": [
    {
     "name": "stdout",
     "output_type": "stream",
     "text": [
      "z-score for a 94% confidence interval: 1.88\n"
     ]
    }
   ],
   "source": [
    "confidence_level1 = 0.94\n",
    "\n",
    "#calculate the z-score for a two-tailed 90% confidence interval \n",
    "z_score1 = stats.norm.ppf((1 + confidence_level1)/2)\n",
    "print(f'z-score for a 94% confidence interval: {z_score1:.2f}')"
   ]
  },
  {
   "cell_type": "markdown",
   "id": "d7275237",
   "metadata": {},
   "source": [
    "c) 60% confidence interval"
   ]
  },
  {
   "cell_type": "code",
   "execution_count": 222,
   "id": "297764de",
   "metadata": {},
   "outputs": [
    {
     "name": "stdout",
     "output_type": "stream",
     "text": [
      "z-score for a 60% confidence interval: 0.84\n"
     ]
    }
   ],
   "source": [
    "confidence_level2 = 0.60\n",
    "\n",
    "#calculate the z-score for a two-tailed 90% confidence interval \n",
    "z_score2 = stats.norm.ppf((1 + confidence_level2)/2)\n",
    "print(f'z-score for a 60% confidence interval: {z_score2:.2f}')"
   ]
  },
  {
   "cell_type": "markdown",
   "id": "5936da9d",
   "metadata": {},
   "source": [
    "# Question 23:\n",
    "\n",
    "Calculate the t scores of 95% confidence interval, 96% confidence interval, 99% confidence interval for sample size of 25.\n",
    "\n",
    "\n",
    "a) 95% confidence interval"
   ]
  },
  {
   "cell_type": "code",
   "execution_count": 220,
   "id": "d7c8ce0e",
   "metadata": {},
   "outputs": [
    {
     "name": "stdout",
     "output_type": "stream",
     "text": [
      "T-score for a 95% confidence interval with 25 sample size: 2.064\n"
     ]
    }
   ],
   "source": [
    "confidence_level = 0.95\n",
    "degree_of_freedom = 25 - 1\n",
    "t_score = stats.t.ppf((1+ confidence_level)/2, df = degree_of_freedom)\n",
    "\n",
    "print(f'T-score for a 95% confidence interval with 25 sample size: {t_score:.3f}')"
   ]
  },
  {
   "cell_type": "markdown",
   "id": "98f6b75c",
   "metadata": {},
   "source": [
    "b) 96% confidence interval "
   ]
  },
  {
   "cell_type": "code",
   "execution_count": 223,
   "id": "6c73d2cd",
   "metadata": {
    "scrolled": true
   },
   "outputs": [
    {
     "name": "stdout",
     "output_type": "stream",
     "text": [
      "T-score for a 96% confidence interval with 25 sample size: 2.172\n"
     ]
    }
   ],
   "source": [
    "confidence_level = 0.96\n",
    "degree_of_freedom = 25 - 1\n",
    "t_score = stats.t.ppf((1+ confidence_level)/2, df = degree_of_freedom)\n",
    "\n",
    "print(f'T-score for a 96% confidence interval with 25 sample size: {t_score:.3f}')"
   ]
  },
  {
   "cell_type": "markdown",
   "id": "2b9cd7c1",
   "metadata": {},
   "source": [
    "c) 99% confidence interval"
   ]
  },
  {
   "cell_type": "code",
   "execution_count": 224,
   "id": "cd0ddc4c",
   "metadata": {},
   "outputs": [
    {
     "name": "stdout",
     "output_type": "stream",
     "text": [
      "T-score for a 99% confidence interval with 25 sample size: 2.797\n"
     ]
    }
   ],
   "source": [
    "confidence_level = 0.99\n",
    "degree_of_freedom = 25 - 1\n",
    "t_score = stats.t.ppf((1+ confidence_level)/2, df = degree_of_freedom)\n",
    "\n",
    "print(f'T-score for a 99% confidence interval with 25 sample size: {t_score:.3f}')"
   ]
  },
  {
   "cell_type": "markdown",
   "id": "abe2fefe",
   "metadata": {},
   "source": [
    "#  Question 24:\n",
    "\n",
    "A Government company claims that an average light bulb lasts 270 days. A researcher randomly selects 18 bulbs for testing. The sampled bulbs last an average of 260 days, with a standard deviation of 90 days. If the CEO's claim were true, what is the probability that 18 randomly selected bulbs would have an average life of no more than 260 days"
   ]
  },
  {
   "cell_type": "code",
   "execution_count": 226,
   "id": "8e7db0f8",
   "metadata": {},
   "outputs": [
    {
     "name": "stdout",
     "output_type": "stream",
     "text": [
      "0.32167253567098364\n"
     ]
    }
   ],
   "source": [
    "pop_mean = 270 \n",
    "sample_mean = 260\n",
    "sample_stdev = 90\n",
    "sample_size = 18\n",
    "\n",
    "t_score = (sample_mean - pop_mean)/(sample_stdev/np.sqrt(sample_size))\n",
    "\n",
    "prob = stats.t.cdf(t_score, df = 17)\n",
    "print(prob)"
   ]
  },
  {
   "cell_type": "markdown",
   "id": "2c3bcfcc",
   "metadata": {},
   "source": [
    "So, the probability is 0.32, which means 32%.\n",
    "\n",
    "\n",
    "\n",
    "# Assignment ends here"
   ]
  },
  {
   "cell_type": "code",
   "execution_count": null,
   "id": "acfc2de1",
   "metadata": {},
   "outputs": [],
   "source": []
  }
 ],
 "metadata": {
  "kernelspec": {
   "display_name": "Python 3 (ipykernel)",
   "language": "python",
   "name": "python3"
  },
  "language_info": {
   "codemirror_mode": {
    "name": "ipython",
    "version": 3
   },
   "file_extension": ".py",
   "mimetype": "text/x-python",
   "name": "python",
   "nbconvert_exporter": "python",
   "pygments_lexer": "ipython3",
   "version": "3.11.5"
  }
 },
 "nbformat": 4,
 "nbformat_minor": 5
}
