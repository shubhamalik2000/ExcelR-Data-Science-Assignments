{
 "cells": [
  {
   "cell_type": "markdown",
   "id": "7d726c24-f98f-49e2-b17f-9f2126a0a674",
   "metadata": {},
   "source": [
    "# Basic statistics level 2 set 4"
   ]
  },
  {
   "cell_type": "code",
   "execution_count": 1,
   "id": "1e6348b2-f0a8-4d1d-843e-54f3bf7006a8",
   "metadata": {},
   "outputs": [],
   "source": [
    "import pandas as pd\n",
    "import numpy as np\n",
    "import seaborn as sns\n",
    "import matplotlib.pyplot as plt\n",
    "import scipy.stats as stats"
   ]
  },
  {
   "cell_type": "markdown",
   "id": "fda58ee2-93cd-4357-a9a6-45489bb56fcd",
   "metadata": {},
   "source": [
    "## Question 3"
   ]
  },
  {
   "cell_type": "code",
   "execution_count": 6,
   "id": "4e211821-0f67-445f-9fbb-7d00f9bdcfaa",
   "metadata": {},
   "outputs": [
    {
     "name": "stdout",
     "output_type": "stream",
     "text": [
      "The probability that in any given week, there will be an investigation is 21.4 %\n"
     ]
    }
   ],
   "source": [
    "mean = 50 \n",
    "std = 40\n",
    "n = 100\n",
    "d_f = 100 - 1 #degree of freedom\n",
    "\n",
    "# calculating t-distribution\n",
    "t_45 = (45 - 50)/(40/np.sqrt(100))\n",
    "t_55 = (55 - 50)/(40/np.sqrt(100))\n",
    "\n",
    "p_45 = stats.t.cdf(t_45, df = d_f)\n",
    "p_55 = stats.t.cdf(t_55, df = d_f)\n",
    "\n",
    "prob = p_55 - p_45\n",
    "\n",
    "print('The probability that in any given week, there will be an investigation is',\n",
    "      np.round((1-prob)*100,1),'%')\n"
   ]
  },
  {
   "cell_type": "markdown",
   "id": "305a3148-a0b0-4b74-9477-8af5173a93b8",
   "metadata": {},
   "source": [
    "## Question 4"
   ]
  },
  {
   "cell_type": "code",
   "execution_count": 12,
   "id": "f0056e9b-62b1-4127-9fc5-bf0d34107190",
   "metadata": {},
   "outputs": [
    {
     "name": "stdout",
     "output_type": "stream",
     "text": [
      "The Auditors would like to maintain the probability of investigation to 5% they should sample 251.0 transactions if they do not want to change the thresholds of 45 to 55\n"
     ]
    }
   ],
   "source": [
    "x_bar = 45\n",
    "s_std = 40\n",
    "mew = 50\n",
    "\n",
    "t = np.round(stats.t.ppf(0.025, df = 100),2)\n",
    "t\n",
    "\n",
    "n = ((s_std*abs(t)) / (5))**2\n",
    "\n",
    "print('The Auditors would like to maintain the probability of investigation to 5%',\\\n",
    "      'they should sample',np.round(n,),'transactions if they do not want to change',\\\n",
    "      'the thresholds of 45 to 55')"
   ]
  },
  {
   "cell_type": "code",
   "execution_count": null,
   "id": "a4053c4b-6979-4054-9cd6-a22b4b3459f2",
   "metadata": {},
   "outputs": [],
   "source": []
  }
 ],
 "metadata": {
  "kernelspec": {
   "display_name": "Python 3 (ipykernel)",
   "language": "python",
   "name": "python3"
  },
  "language_info": {
   "codemirror_mode": {
    "name": "ipython",
    "version": 3
   },
   "file_extension": ".py",
   "mimetype": "text/x-python",
   "name": "python",
   "nbconvert_exporter": "python",
   "pygments_lexer": "ipython3",
   "version": "3.11.5"
  }
 },
 "nbformat": 4,
 "nbformat_minor": 5
}
