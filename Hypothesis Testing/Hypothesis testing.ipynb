{
 "cells": [
  {
   "cell_type": "markdown",
   "id": "bbe7eca4",
   "metadata": {},
   "source": [
    "# Hypothesis Testing"
   ]
  },
  {
   "cell_type": "code",
   "execution_count": 16,
   "id": "480818e5",
   "metadata": {},
   "outputs": [],
   "source": [
    "import numpy as np\n",
    "import pandas as pd\n",
    "import seaborn as sns\n",
    "import matplotlib.pyplot as plt\n",
    "%matplotlib inline\n",
    "import scipy.stats as stats"
   ]
  },
  {
   "cell_type": "markdown",
   "id": "28ca7cfc",
   "metadata": {},
   "source": [
    "# Question 1:\n",
    "\n",
    "A F&B manager wants to determine whether there is any significant difference in the diameter of the cutlet between two units. A randomly selected sample of cutlets was collected from both units and measured? Analyze the data and draw inferences at 5% significance level. Please state the assumptions and tests that you carried out to check validity of the assumptions."
   ]
  },
  {
   "cell_type": "code",
   "execution_count": 4,
   "id": "8b9b219d",
   "metadata": {},
   "outputs": [],
   "source": [
    "dcut = pd.read_csv('Cutlets.csv')"
   ]
  },
  {
   "cell_type": "code",
   "execution_count": 11,
   "id": "6316ab5e",
   "metadata": {
    "scrolled": true
   },
   "outputs": [
    {
     "data": {
      "text/html": [
       "<div>\n",
       "<style scoped>\n",
       "    .dataframe tbody tr th:only-of-type {\n",
       "        vertical-align: middle;\n",
       "    }\n",
       "\n",
       "    .dataframe tbody tr th {\n",
       "        vertical-align: top;\n",
       "    }\n",
       "\n",
       "    .dataframe thead th {\n",
       "        text-align: right;\n",
       "    }\n",
       "</style>\n",
       "<table border=\"1\" class=\"dataframe\">\n",
       "  <thead>\n",
       "    <tr style=\"text-align: right;\">\n",
       "      <th></th>\n",
       "      <th>Unit A</th>\n",
       "      <th>Unit B</th>\n",
       "    </tr>\n",
       "  </thead>\n",
       "  <tbody>\n",
       "    <tr>\n",
       "      <th>0</th>\n",
       "      <td>6.8090</td>\n",
       "      <td>6.7703</td>\n",
       "    </tr>\n",
       "    <tr>\n",
       "      <th>1</th>\n",
       "      <td>6.4376</td>\n",
       "      <td>7.5093</td>\n",
       "    </tr>\n",
       "    <tr>\n",
       "      <th>2</th>\n",
       "      <td>6.9157</td>\n",
       "      <td>6.7300</td>\n",
       "    </tr>\n",
       "    <tr>\n",
       "      <th>3</th>\n",
       "      <td>7.3012</td>\n",
       "      <td>6.7878</td>\n",
       "    </tr>\n",
       "    <tr>\n",
       "      <th>4</th>\n",
       "      <td>7.4488</td>\n",
       "      <td>7.1522</td>\n",
       "    </tr>\n",
       "  </tbody>\n",
       "</table>\n",
       "</div>"
      ],
      "text/plain": [
       "   Unit A  Unit B\n",
       "0  6.8090  6.7703\n",
       "1  6.4376  7.5093\n",
       "2  6.9157  6.7300\n",
       "3  7.3012  6.7878\n",
       "4  7.4488  7.1522"
      ]
     },
     "execution_count": 11,
     "metadata": {},
     "output_type": "execute_result"
    }
   ],
   "source": [
    "dcut.head()"
   ]
  },
  {
   "cell_type": "code",
   "execution_count": 13,
   "id": "6e616d54",
   "metadata": {},
   "outputs": [
    {
     "data": {
      "text/plain": [
       "Unit A    0\n",
       "Unit B    0\n",
       "dtype: int64"
      ]
     },
     "execution_count": 13,
     "metadata": {},
     "output_type": "execute_result"
    }
   ],
   "source": [
    "dcut.isnull().sum()"
   ]
  },
  {
   "cell_type": "code",
   "execution_count": 6,
   "id": "4baecc6b",
   "metadata": {},
   "outputs": [],
   "source": [
    "sample1 = dcut['Unit A']"
   ]
  },
  {
   "cell_type": "code",
   "execution_count": 7,
   "id": "74a78f0e",
   "metadata": {},
   "outputs": [],
   "source": [
    "sample2 = dcut['Unit B']"
   ]
  },
  {
   "cell_type": "code",
   "execution_count": 8,
   "id": "4c64a1b8",
   "metadata": {},
   "outputs": [
    {
     "data": {
      "text/plain": [
       "count    35.000000\n",
       "mean      7.019091\n",
       "std       0.288408\n",
       "min       6.437600\n",
       "25%       6.831500\n",
       "50%       6.943800\n",
       "75%       7.280550\n",
       "max       7.516900\n",
       "Name: Unit A, dtype: float64"
      ]
     },
     "execution_count": 8,
     "metadata": {},
     "output_type": "execute_result"
    }
   ],
   "source": [
    "sample1.describe()"
   ]
  },
  {
   "cell_type": "code",
   "execution_count": 9,
   "id": "f05d607c",
   "metadata": {},
   "outputs": [
    {
     "data": {
      "text/plain": [
       "count    35.000000\n",
       "mean      6.964297\n",
       "std       0.343401\n",
       "min       6.038000\n",
       "25%       6.753600\n",
       "50%       6.939900\n",
       "75%       7.195000\n",
       "max       7.545900\n",
       "Name: Unit B, dtype: float64"
      ]
     },
     "execution_count": 9,
     "metadata": {},
     "output_type": "execute_result"
    }
   ],
   "source": [
    "sample2.describe()"
   ]
  },
  {
   "cell_type": "markdown",
   "id": "c21895a3",
   "metadata": {},
   "source": [
    "### Assumptions\n",
    "Null hypothesis, H0: mu1 = mu2, that is, two samples are about the same\n",
    "Alternate hypothesis, H1: mu1 is not equal to mu2, that is, there is significant difference between the two samples\n",
    "\n",
    "\n",
    "### Significance level:\n",
    "therefore, alpha = 0.05\n",
    "\n",
    "So, here we are going to conduct 2-tailed t-test on 2 independent samples, to check if the two datasets are significantly different or not. \n",
    "\n",
    "As, we have to conduct 2 tailed test here, so tolerance per side of the mean is alpha/2 = 0.25"
   ]
  },
  {
   "cell_type": "markdown",
   "id": "af208aed",
   "metadata": {},
   "source": [
    "### 2-tailed t-test"
   ]
  },
  {
   "cell_type": "code",
   "execution_count": 10,
   "id": "e64be54e",
   "metadata": {},
   "outputs": [
    {
     "data": {
      "text/plain": [
       "TtestResult(statistic=0.7228688704678063, pvalue=0.4722394724599501, df=68.0)"
      ]
     },
     "execution_count": 10,
     "metadata": {},
     "output_type": "execute_result"
    }
   ],
   "source": [
    "stats.ttest_ind(sample1, sample2)"
   ]
  },
  {
   "cell_type": "markdown",
   "id": "d3d513e5",
   "metadata": {},
   "source": [
    "### Conclusion:\n",
    "Because p-value that we obtained here (0.472) is greater than 0.05, so we won't reject our null hypothesis. \n",
    "Which implies that that too samples are not significantly different from each other, or they are just about the same."
   ]
  },
  {
   "cell_type": "code",
   "execution_count": 17,
   "id": "7b9706f9",
   "metadata": {},
   "outputs": [
    {
     "name": "stderr",
     "output_type": "stream",
     "text": [
      "C:\\Users\\LENOVO\\AppData\\Local\\Temp\\ipykernel_19304\\525000074.py:3: UserWarning: \n",
      "\n",
      "`distplot` is a deprecated function and will be removed in seaborn v0.14.0.\n",
      "\n",
      "Please adapt your code to use either `displot` (a figure-level function with\n",
      "similar flexibility) or `histplot` (an axes-level function for histograms).\n",
      "\n",
      "For a guide to updating your code to use the new functions, please see\n",
      "https://gist.github.com/mwaskom/de44147ed2974457ad6372750bbe5751\n",
      "\n",
      "  sns.distplot(sample1, kde = True)\n",
      "C:\\Users\\LENOVO\\AppData\\Local\\Temp\\ipykernel_19304\\525000074.py:4: UserWarning: \n",
      "\n",
      "`distplot` is a deprecated function and will be removed in seaborn v0.14.0.\n",
      "\n",
      "Please adapt your code to use either `displot` (a figure-level function with\n",
      "similar flexibility) or `histplot` (an axes-level function for histograms).\n",
      "\n",
      "For a guide to updating your code to use the new functions, please see\n",
      "https://gist.github.com/mwaskom/de44147ed2974457ad6372750bbe5751\n",
      "\n",
      "  sns.distplot(sample2,hist = True)\n"
     ]
    },
    {
     "data": {
      "text/plain": [
       "<matplotlib.legend.Legend at 0x1f7ee8f75d0>"
      ]
     },
     "execution_count": 17,
     "metadata": {},
     "output_type": "execute_result"
    },
    {
     "data": {
      "image/png": "[encoded data removed]",
      "text/plain": [
       "<Figure size 800x600 with 1 Axes>"
      ]
     },
     "metadata": {},
     "output_type": "display_data"
    }
   ],
   "source": [
    "plt.figure(figsize = (8,6))\n",
    "labels = ['Sample1', 'Sample2']\n",
    "sns.distplot(sample1, kde = True)\n",
    "sns.distplot(sample2,hist = True)\n",
    "plt.legend(labels)"
   ]
  },
  {
   "cell_type": "markdown",
   "id": "107fc8f5",
   "metadata": {},
   "source": [
    "# Question 2:\n",
    "\n",
    "   A hospital wants to determine whether there is any difference in the average Turn Around Time (TAT) of reports of the laboratories on their preferred list. They collected a random sample and recorded TAT for reports of 4 laboratories. TAT is defined as sample collected to report dispatch.\n",
    "   \n",
    "  Analyze the data and determine whether there is any difference in average TAT among the different laboratories at 5% significance level."
   ]
  },
  {
   "cell_type": "code",
   "execution_count": 18,
   "id": "dd971aff",
   "metadata": {},
   "outputs": [],
   "source": [
    "dlab = pd.read_csv('LabTAT.csv')"
   ]
  },
  {
   "cell_type": "code",
   "execution_count": 19,
   "id": "a5719b14",
   "metadata": {},
   "outputs": [
    {
     "data": {
      "text/html": [
       "<div>\n",
       "<style scoped>\n",
       "    .dataframe tbody tr th:only-of-type {\n",
       "        vertical-align: middle;\n",
       "    }\n",
       "\n",
       "    .dataframe tbody tr th {\n",
       "        vertical-align: top;\n",
       "    }\n",
       "\n",
       "    .dataframe thead th {\n",
       "        text-align: right;\n",
       "    }\n",
       "</style>\n",
       "<table border=\"1\" class=\"dataframe\">\n",
       "  <thead>\n",
       "    <tr style=\"text-align: right;\">\n",
       "      <th></th>\n",
       "      <th>Laboratory 1</th>\n",
       "      <th>Laboratory 2</th>\n",
       "      <th>Laboratory 3</th>\n",
       "      <th>Laboratory 4</th>\n",
       "    </tr>\n",
       "  </thead>\n",
       "  <tbody>\n",
       "    <tr>\n",
       "      <th>0</th>\n",
       "      <td>185.35</td>\n",
       "      <td>165.53</td>\n",
       "      <td>176.70</td>\n",
       "      <td>166.13</td>\n",
       "    </tr>\n",
       "    <tr>\n",
       "      <th>1</th>\n",
       "      <td>170.49</td>\n",
       "      <td>185.91</td>\n",
       "      <td>198.45</td>\n",
       "      <td>160.79</td>\n",
       "    </tr>\n",
       "    <tr>\n",
       "      <th>2</th>\n",
       "      <td>192.77</td>\n",
       "      <td>194.92</td>\n",
       "      <td>201.23</td>\n",
       "      <td>185.18</td>\n",
       "    </tr>\n",
       "    <tr>\n",
       "      <th>3</th>\n",
       "      <td>177.33</td>\n",
       "      <td>183.00</td>\n",
       "      <td>199.61</td>\n",
       "      <td>176.42</td>\n",
       "    </tr>\n",
       "    <tr>\n",
       "      <th>4</th>\n",
       "      <td>193.41</td>\n",
       "      <td>169.57</td>\n",
       "      <td>204.63</td>\n",
       "      <td>152.60</td>\n",
       "    </tr>\n",
       "  </tbody>\n",
       "</table>\n",
       "</div>"
      ],
      "text/plain": [
       "   Laboratory 1  Laboratory 2  Laboratory 3  Laboratory 4\n",
       "0        185.35        165.53        176.70        166.13\n",
       "1        170.49        185.91        198.45        160.79\n",
       "2        192.77        194.92        201.23        185.18\n",
       "3        177.33        183.00        199.61        176.42\n",
       "4        193.41        169.57        204.63        152.60"
      ]
     },
     "execution_count": 19,
     "metadata": {},
     "output_type": "execute_result"
    }
   ],
   "source": [
    "dlab.head()"
   ]
  },
  {
   "cell_type": "code",
   "execution_count": 20,
   "id": "5a267f47",
   "metadata": {},
   "outputs": [
    {
     "data": {
      "text/html": [
       "<div>\n",
       "<style scoped>\n",
       "    .dataframe tbody tr th:only-of-type {\n",
       "        vertical-align: middle;\n",
       "    }\n",
       "\n",
       "    .dataframe tbody tr th {\n",
       "        vertical-align: top;\n",
       "    }\n",
       "\n",
       "    .dataframe thead th {\n",
       "        text-align: right;\n",
       "    }\n",
       "</style>\n",
       "<table border=\"1\" class=\"dataframe\">\n",
       "  <thead>\n",
       "    <tr style=\"text-align: right;\">\n",
       "      <th></th>\n",
       "      <th>Laboratory 1</th>\n",
       "      <th>Laboratory 2</th>\n",
       "      <th>Laboratory 3</th>\n",
       "      <th>Laboratory 4</th>\n",
       "    </tr>\n",
       "  </thead>\n",
       "  <tbody>\n",
       "    <tr>\n",
       "      <th>count</th>\n",
       "      <td>120.000000</td>\n",
       "      <td>120.000000</td>\n",
       "      <td>120.000000</td>\n",
       "      <td>120.00000</td>\n",
       "    </tr>\n",
       "    <tr>\n",
       "      <th>mean</th>\n",
       "      <td>178.361583</td>\n",
       "      <td>178.902917</td>\n",
       "      <td>199.913250</td>\n",
       "      <td>163.68275</td>\n",
       "    </tr>\n",
       "    <tr>\n",
       "      <th>std</th>\n",
       "      <td>13.173594</td>\n",
       "      <td>14.957114</td>\n",
       "      <td>16.539033</td>\n",
       "      <td>15.08508</td>\n",
       "    </tr>\n",
       "    <tr>\n",
       "      <th>min</th>\n",
       "      <td>138.300000</td>\n",
       "      <td>140.550000</td>\n",
       "      <td>159.690000</td>\n",
       "      <td>124.06000</td>\n",
       "    </tr>\n",
       "    <tr>\n",
       "      <th>25%</th>\n",
       "      <td>170.335000</td>\n",
       "      <td>168.025000</td>\n",
       "      <td>188.232500</td>\n",
       "      <td>154.05000</td>\n",
       "    </tr>\n",
       "    <tr>\n",
       "      <th>50%</th>\n",
       "      <td>178.530000</td>\n",
       "      <td>178.870000</td>\n",
       "      <td>199.805000</td>\n",
       "      <td>164.42500</td>\n",
       "    </tr>\n",
       "    <tr>\n",
       "      <th>75%</th>\n",
       "      <td>186.535000</td>\n",
       "      <td>189.112500</td>\n",
       "      <td>211.332500</td>\n",
       "      <td>172.88250</td>\n",
       "    </tr>\n",
       "    <tr>\n",
       "      <th>max</th>\n",
       "      <td>216.390000</td>\n",
       "      <td>217.860000</td>\n",
       "      <td>238.700000</td>\n",
       "      <td>205.18000</td>\n",
       "    </tr>\n",
       "  </tbody>\n",
       "</table>\n",
       "</div>"
      ],
      "text/plain": [
       "       Laboratory 1  Laboratory 2  Laboratory 3  Laboratory 4\n",
       "count    120.000000    120.000000    120.000000     120.00000\n",
       "mean     178.361583    178.902917    199.913250     163.68275\n",
       "std       13.173594     14.957114     16.539033      15.08508\n",
       "min      138.300000    140.550000    159.690000     124.06000\n",
       "25%      170.335000    168.025000    188.232500     154.05000\n",
       "50%      178.530000    178.870000    199.805000     164.42500\n",
       "75%      186.535000    189.112500    211.332500     172.88250\n",
       "max      216.390000    217.860000    238.700000     205.18000"
      ]
     },
     "execution_count": 20,
     "metadata": {},
     "output_type": "execute_result"
    }
   ],
   "source": [
    "dlab.describe()"
   ]
  },
  {
   "cell_type": "code",
   "execution_count": 21,
   "id": "3123aae0",
   "metadata": {},
   "outputs": [
    {
     "data": {
      "text/plain": [
       "Laboratory 1    0\n",
       "Laboratory 2    0\n",
       "Laboratory 3    0\n",
       "Laboratory 4    0\n",
       "dtype: int64"
      ]
     },
     "execution_count": 21,
     "metadata": {},
     "output_type": "execute_result"
    }
   ],
   "source": [
    "dlab.isnull().sum()"
   ]
  },
  {
   "cell_type": "code",
   "execution_count": 29,
   "id": "b0e8d961",
   "metadata": {},
   "outputs": [
    {
     "name": "stdout",
     "output_type": "stream",
     "text": [
      "<class 'pandas.core.frame.DataFrame'>\n",
      "RangeIndex: 120 entries, 0 to 119\n",
      "Data columns (total 4 columns):\n",
      " #   Column        Non-Null Count  Dtype  \n",
      "---  ------        --------------  -----  \n",
      " 0   Laboratory 1  120 non-null    float64\n",
      " 1   Laboratory 2  120 non-null    float64\n",
      " 2   Laboratory 3  120 non-null    float64\n",
      " 3   Laboratory 4  120 non-null    float64\n",
      "dtypes: float64(4)\n",
      "memory usage: 3.9 KB\n"
     ]
    }
   ],
   "source": [
    "dlab.info()"
   ]
  },
  {
   "cell_type": "code",
   "execution_count": 32,
   "id": "7ccf74b9",
   "metadata": {},
   "outputs": [
    {
     "name": "stderr",
     "output_type": "stream",
     "text": [
      "C:\\Users\\LENOVO\\AppData\\Local\\Temp\\ipykernel_19304\\790275453.py:2: MatplotlibDeprecationWarning: Auto-removal of overlapping axes is deprecated since 3.6 and will be removed two minor releases later; explicitly call ax.remove() as needed.\n",
      "  plt.subplot(221)\n"
     ]
    },
    {
     "data": {
      "text/plain": [
       "Text(0.5, 1.0, 'Laboratory 4')"
      ]
     },
     "execution_count": 32,
     "metadata": {},
     "output_type": "execute_result"
    },
    {
     "data": {
      "image/png": "[encoded data removed]",
      "text/plain": [
       "<Figure size 1600x900 with 4 Axes>"
      ]
     },
     "metadata": {},
     "output_type": "display_data"
    }
   ],
   "source": [
    "plt.subplots(figsize = (16,9))\n",
    "plt.subplot(221)\n",
    "plt.boxplot(dlab['Laboratory 1'])\n",
    "plt.title('Laboratory 1')\n",
    "plt.subplot(222)\n",
    "plt.boxplot(dlab['Laboratory 2'])\n",
    "plt.title('Laboratory 2')\n",
    "plt.subplot(223)\n",
    "plt.boxplot(dlab['Laboratory 3'])\n",
    "plt.title('Laboratory 3')\n",
    "plt.subplot(224)\n",
    "plt.boxplot(dlab['Laboratory 4'])\n",
    "plt.title('Laboratory 4')"
   ]
  },
  {
   "cell_type": "code",
   "execution_count": 35,
   "id": "f68bab10",
   "metadata": {
    "scrolled": false
   },
   "outputs": [
    {
     "name": "stderr",
     "output_type": "stream",
     "text": [
      "C:\\Users\\LENOVO\\AppData\\Local\\Temp\\ipykernel_19304\\981363982.py:3: UserWarning: \n",
      "\n",
      "`distplot` is a deprecated function and will be removed in seaborn v0.14.0.\n",
      "\n",
      "Please adapt your code to use either `displot` (a figure-level function with\n",
      "similar flexibility) or `histplot` (an axes-level function for histograms).\n",
      "\n",
      "For a guide to updating your code to use the new functions, please see\n",
      "https://gist.github.com/mwaskom/de44147ed2974457ad6372750bbe5751\n",
      "\n",
      "  sns.distplot(dlab['Laboratory 1'], kde = True)\n",
      "C:\\Users\\LENOVO\\AppData\\Local\\Temp\\ipykernel_19304\\981363982.py:4: UserWarning: \n",
      "\n",
      "`distplot` is a deprecated function and will be removed in seaborn v0.14.0.\n",
      "\n",
      "Please adapt your code to use either `displot` (a figure-level function with\n",
      "similar flexibility) or `histplot` (an axes-level function for histograms).\n",
      "\n",
      "For a guide to updating your code to use the new functions, please see\n",
      "https://gist.github.com/mwaskom/de44147ed2974457ad6372750bbe5751\n",
      "\n",
      "  sns.distplot(dlab['Laboratory 2'],hist = True)\n",
      "C:\\Users\\LENOVO\\AppData\\Local\\Temp\\ipykernel_19304\\981363982.py:5: UserWarning: \n",
      "\n",
      "`distplot` is a deprecated function and will be removed in seaborn v0.14.0.\n",
      "\n",
      "Please adapt your code to use either `displot` (a figure-level function with\n",
      "similar flexibility) or `histplot` (an axes-level function for histograms).\n",
      "\n",
      "For a guide to updating your code to use the new functions, please see\n",
      "https://gist.github.com/mwaskom/de44147ed2974457ad6372750bbe5751\n",
      "\n",
      "  sns.distplot(dlab['Laboratory 3'],hist = True)\n",
      "C:\\Users\\LENOVO\\AppData\\Local\\Temp\\ipykernel_19304\\981363982.py:6: UserWarning: \n",
      "\n",
      "`distplot` is a deprecated function and will be removed in seaborn v0.14.0.\n",
      "\n",
      "Please adapt your code to use either `displot` (a figure-level function with\n",
      "similar flexibility) or `histplot` (an axes-level function for histograms).\n",
      "\n",
      "For a guide to updating your code to use the new functions, please see\n",
      "https://gist.github.com/mwaskom/de44147ed2974457ad6372750bbe5751\n",
      "\n",
      "  sns.distplot(dlab['Laboratory 4'],hist = True)\n"
     ]
    },
    {
     "data": {
      "text/plain": [
       "<matplotlib.legend.Legend at 0x1f7f8b0af50>"
      ]
     },
     "execution_count": 35,
     "metadata": {},
     "output_type": "execute_result"
    },
    {
     "data": {
      "image/png": "[encoded data removed]",
      "text/plain": [
       "<Figure size 800x600 with 1 Axes>"
      ]
     },
     "metadata": {},
     "output_type": "display_data"
    }
   ],
   "source": [
    "plt.figure(figsize = (8,6))\n",
    "labels = ['Lab 1', 'Lab 2','Lab 3', 'Lab 4']\n",
    "sns.distplot(dlab['Laboratory 1'], kde = True)\n",
    "sns.distplot(dlab['Laboratory 2'],hist = True)\n",
    "sns.distplot(dlab['Laboratory 3'],hist = True)\n",
    "sns.distplot(dlab['Laboratory 4'],hist = True)\n",
    "plt.legend(labels)"
   ]
  },
  {
   "cell_type": "markdown",
   "id": "b824f808",
   "metadata": {},
   "source": [
    "### Assumption:\n",
    "\n",
    "Now we will define H0 and H1\n",
    "Null hypothesis, H0: mu1 = mu2 = mu3 = mu4, that is, there is not much difference among the 4 datasets. \n",
    "\n",
    "Alternate hypothesis, H1: atleast one of them is different. \n",
    "\n",
    "\n",
    "\n",
    "### Significane\n",
    "\n",
    "Significane level is given to be 5%\n",
    "so, alpha = 0.05\n",
    "\n",
    "\n",
    "### ANOVA test\n",
    "\n",
    "Now we'd test the hypothesis using the ANOVA test, because we have more than 2 sample sets. "
   ]
  },
  {
   "cell_type": "code",
   "execution_count": 36,
   "id": "326defe8",
   "metadata": {},
   "outputs": [
    {
     "data": {
      "text/plain": [
       "F_onewayResult(statistic=118.70421654401437, pvalue=2.1156708949992414e-57)"
      ]
     },
     "execution_count": 36,
     "metadata": {},
     "output_type": "execute_result"
    }
   ],
   "source": [
    "stats.f_oneway(dlab.iloc[:,0],dlab.iloc[:,1],dlab.iloc[:,2],dlab.iloc[:,3],)"
   ]
  },
  {
   "cell_type": "markdown",
   "id": "aeb2a0ac",
   "metadata": {},
   "source": [
    "### Conclusion:\n",
    "\n",
    "Because here, p-value is less than alpha, so we regect the null hypothesis. \n",
    "\n",
    "Therfore, we conclude that there is a significance difference between TAT reports of the laboratories."
   ]
  },
  {
   "cell_type": "markdown",
   "id": "214c01ed",
   "metadata": {},
   "source": [
    "# Question 3:\n",
    "\n",
    "Sales of products in four different regions is tabulated for males and females. Find if male-female buyer rations are similar across regions."
   ]
  },
  {
   "cell_type": "code",
   "execution_count": 22,
   "id": "27fe82c2",
   "metadata": {},
   "outputs": [],
   "source": [
    "dsale = pd.read_csv('BuyerRatio.csv')"
   ]
  },
  {
   "cell_type": "code",
   "execution_count": 24,
   "id": "422a0b02",
   "metadata": {},
   "outputs": [
    {
     "data": {
      "text/html": [
       "<div>\n",
       "<style scoped>\n",
       "    .dataframe tbody tr th:only-of-type {\n",
       "        vertical-align: middle;\n",
       "    }\n",
       "\n",
       "    .dataframe tbody tr th {\n",
       "        vertical-align: top;\n",
       "    }\n",
       "\n",
       "    .dataframe thead th {\n",
       "        text-align: right;\n",
       "    }\n",
       "</style>\n",
       "<table border=\"1\" class=\"dataframe\">\n",
       "  <thead>\n",
       "    <tr style=\"text-align: right;\">\n",
       "      <th></th>\n",
       "      <th>Observed Values</th>\n",
       "      <th>East</th>\n",
       "      <th>West</th>\n",
       "      <th>North</th>\n",
       "      <th>South</th>\n",
       "    </tr>\n",
       "  </thead>\n",
       "  <tbody>\n",
       "    <tr>\n",
       "      <th>0</th>\n",
       "      <td>Males</td>\n",
       "      <td>50</td>\n",
       "      <td>142</td>\n",
       "      <td>131</td>\n",
       "      <td>70</td>\n",
       "    </tr>\n",
       "    <tr>\n",
       "      <th>1</th>\n",
       "      <td>Females</td>\n",
       "      <td>435</td>\n",
       "      <td>1523</td>\n",
       "      <td>1356</td>\n",
       "      <td>750</td>\n",
       "    </tr>\n",
       "  </tbody>\n",
       "</table>\n",
       "</div>"
      ],
      "text/plain": [
       "  Observed Values  East  West  North  South\n",
       "0           Males    50   142    131     70\n",
       "1         Females   435  1523   1356    750"
      ]
     },
     "execution_count": 24,
     "metadata": {},
     "output_type": "execute_result"
    }
   ],
   "source": [
    "dsale"
   ]
  },
  {
   "cell_type": "code",
   "execution_count": 39,
   "id": "beffd283",
   "metadata": {
    "scrolled": true
   },
   "outputs": [
    {
     "name": "stdout",
     "output_type": "stream",
     "text": [
      "<class 'pandas.core.frame.DataFrame'>\n",
      "RangeIndex: 2 entries, 0 to 1\n",
      "Data columns (total 5 columns):\n",
      " #   Column           Non-Null Count  Dtype \n",
      "---  ------           --------------  ----- \n",
      " 0   Observed Values  2 non-null      object\n",
      " 1   East             2 non-null      int64 \n",
      " 2   West             2 non-null      int64 \n",
      " 3   North            2 non-null      int64 \n",
      " 4   South            2 non-null      int64 \n",
      "dtypes: int64(4), object(1)\n",
      "memory usage: 212.0+ bytes\n"
     ]
    }
   ],
   "source": [
    "dsale.info()"
   ]
  },
  {
   "cell_type": "code",
   "execution_count": 83,
   "id": "a6bc4c90",
   "metadata": {},
   "outputs": [],
   "source": [
    "table = np.array([[50,142,131,70],\n",
    "        [435,1523,1356,750]])"
   ]
  },
  {
   "cell_type": "markdown",
   "id": "f697b6d8",
   "metadata": {},
   "source": [
    "### Auusmption\n",
    "\n",
    "__Null hypothesis:__ There is no association or dependency between the gender based buyer rations across regions\n",
    "\n",
    "__Alternative Hypothesis:__ There is a significant association or dependency between the gender based buyer rations across regions. \n",
    "\n",
    "### Significance\n",
    "\n",
    "Significance = 5%\n",
    "therefore, alpha = 0.05\n",
    "\n",
    "\n",
    "### Chi-2 contingency function\n",
    "\n",
    "We'd use chi2 contingency function to evaluate our result."
   ]
  },
  {
   "cell_type": "code",
   "execution_count": 85,
   "id": "73945c96",
   "metadata": {},
   "outputs": [],
   "source": [
    "stat, pvalue, dof, expected_obs = stats.chi2_contingency(table)"
   ]
  },
  {
   "cell_type": "code",
   "execution_count": 86,
   "id": "9dadec9f",
   "metadata": {},
   "outputs": [
    {
     "name": "stdout",
     "output_type": "stream",
     "text": [
      "1.595945538661058\n",
      "0.6603094907091882\n",
      "3\n",
      "[[  42.76531299  146.81287862  131.11756787   72.30424052]\n",
      " [ 442.23468701 1518.18712138 1355.88243213  747.69575948]]\n"
     ]
    }
   ],
   "source": [
    "print(stat)\n",
    "print(pvalue)\n",
    "print(dof)\n",
    "print(expected_obs)"
   ]
  },
  {
   "cell_type": "markdown",
   "id": "b1cf50e9",
   "metadata": {},
   "source": [
    "### Conclusion:\n",
    "\n",
    "Because pvalue is greater than 0.05, therefore we won't reject the null hypothesis. \n",
    "Therefore, there is no association between the gender buyer rations across regions."
   ]
  },
  {
   "cell_type": "markdown",
   "id": "8a508a1c",
   "metadata": {},
   "source": [
    "# Question 4:\n",
    "\n",
    "TeleCall uses 4 centers around the globe to process customer order forms. They audit a certain %  of the customer order forms. Any error in order form renders it defective and has to be reworked before processing.  The manager wants to check whether the defective %  varies by centre. Please analyze the data at 5% significance level and help the manager draw appropriate inferences\n"
   ]
  },
  {
   "cell_type": "code",
   "execution_count": 26,
   "id": "f4e0a7ce",
   "metadata": {},
   "outputs": [],
   "source": [
    "dtelcall = pd.read_csv('Costomer+OrderForm.csv')"
   ]
  },
  {
   "cell_type": "code",
   "execution_count": 27,
   "id": "dbb30bc3",
   "metadata": {},
   "outputs": [
    {
     "data": {
      "text/html": [
       "<div>\n",
       "<style scoped>\n",
       "    .dataframe tbody tr th:only-of-type {\n",
       "        vertical-align: middle;\n",
       "    }\n",
       "\n",
       "    .dataframe tbody tr th {\n",
       "        vertical-align: top;\n",
       "    }\n",
       "\n",
       "    .dataframe thead th {\n",
       "        text-align: right;\n",
       "    }\n",
       "</style>\n",
       "<table border=\"1\" class=\"dataframe\">\n",
       "  <thead>\n",
       "    <tr style=\"text-align: right;\">\n",
       "      <th></th>\n",
       "      <th>Phillippines</th>\n",
       "      <th>Indonesia</th>\n",
       "      <th>Malta</th>\n",
       "      <th>India</th>\n",
       "    </tr>\n",
       "  </thead>\n",
       "  <tbody>\n",
       "    <tr>\n",
       "      <th>0</th>\n",
       "      <td>Error Free</td>\n",
       "      <td>Error Free</td>\n",
       "      <td>Defective</td>\n",
       "      <td>Error Free</td>\n",
       "    </tr>\n",
       "    <tr>\n",
       "      <th>1</th>\n",
       "      <td>Error Free</td>\n",
       "      <td>Error Free</td>\n",
       "      <td>Error Free</td>\n",
       "      <td>Defective</td>\n",
       "    </tr>\n",
       "    <tr>\n",
       "      <th>2</th>\n",
       "      <td>Error Free</td>\n",
       "      <td>Defective</td>\n",
       "      <td>Defective</td>\n",
       "      <td>Error Free</td>\n",
       "    </tr>\n",
       "    <tr>\n",
       "      <th>3</th>\n",
       "      <td>Error Free</td>\n",
       "      <td>Error Free</td>\n",
       "      <td>Error Free</td>\n",
       "      <td>Error Free</td>\n",
       "    </tr>\n",
       "    <tr>\n",
       "      <th>4</th>\n",
       "      <td>Error Free</td>\n",
       "      <td>Error Free</td>\n",
       "      <td>Defective</td>\n",
       "      <td>Error Free</td>\n",
       "    </tr>\n",
       "    <tr>\n",
       "      <th>...</th>\n",
       "      <td>...</td>\n",
       "      <td>...</td>\n",
       "      <td>...</td>\n",
       "      <td>...</td>\n",
       "    </tr>\n",
       "    <tr>\n",
       "      <th>295</th>\n",
       "      <td>Error Free</td>\n",
       "      <td>Error Free</td>\n",
       "      <td>Error Free</td>\n",
       "      <td>Error Free</td>\n",
       "    </tr>\n",
       "    <tr>\n",
       "      <th>296</th>\n",
       "      <td>Error Free</td>\n",
       "      <td>Error Free</td>\n",
       "      <td>Error Free</td>\n",
       "      <td>Error Free</td>\n",
       "    </tr>\n",
       "    <tr>\n",
       "      <th>297</th>\n",
       "      <td>Error Free</td>\n",
       "      <td>Error Free</td>\n",
       "      <td>Defective</td>\n",
       "      <td>Error Free</td>\n",
       "    </tr>\n",
       "    <tr>\n",
       "      <th>298</th>\n",
       "      <td>Error Free</td>\n",
       "      <td>Error Free</td>\n",
       "      <td>Error Free</td>\n",
       "      <td>Error Free</td>\n",
       "    </tr>\n",
       "    <tr>\n",
       "      <th>299</th>\n",
       "      <td>Error Free</td>\n",
       "      <td>Defective</td>\n",
       "      <td>Defective</td>\n",
       "      <td>Error Free</td>\n",
       "    </tr>\n",
       "  </tbody>\n",
       "</table>\n",
       "<p>300 rows × 4 columns</p>\n",
       "</div>"
      ],
      "text/plain": [
       "    Phillippines   Indonesia       Malta       India\n",
       "0     Error Free  Error Free   Defective  Error Free\n",
       "1     Error Free  Error Free  Error Free   Defective\n",
       "2     Error Free   Defective   Defective  Error Free\n",
       "3     Error Free  Error Free  Error Free  Error Free\n",
       "4     Error Free  Error Free   Defective  Error Free\n",
       "..           ...         ...         ...         ...\n",
       "295   Error Free  Error Free  Error Free  Error Free\n",
       "296   Error Free  Error Free  Error Free  Error Free\n",
       "297   Error Free  Error Free   Defective  Error Free\n",
       "298   Error Free  Error Free  Error Free  Error Free\n",
       "299   Error Free   Defective   Defective  Error Free\n",
       "\n",
       "[300 rows x 4 columns]"
      ]
     },
     "execution_count": 27,
     "metadata": {},
     "output_type": "execute_result"
    }
   ],
   "source": [
    "dtelcall"
   ]
  },
  {
   "cell_type": "code",
   "execution_count": 87,
   "id": "ff0aa189",
   "metadata": {},
   "outputs": [
    {
     "data": {
      "text/html": [
       "<div>\n",
       "<style scoped>\n",
       "    .dataframe tbody tr th:only-of-type {\n",
       "        vertical-align: middle;\n",
       "    }\n",
       "\n",
       "    .dataframe tbody tr th {\n",
       "        vertical-align: top;\n",
       "    }\n",
       "\n",
       "    .dataframe thead th {\n",
       "        text-align: right;\n",
       "    }\n",
       "</style>\n",
       "<table border=\"1\" class=\"dataframe\">\n",
       "  <thead>\n",
       "    <tr style=\"text-align: right;\">\n",
       "      <th></th>\n",
       "      <th>Phillippines</th>\n",
       "      <th>Indonesia</th>\n",
       "      <th>Malta</th>\n",
       "      <th>India</th>\n",
       "    </tr>\n",
       "  </thead>\n",
       "  <tbody>\n",
       "    <tr>\n",
       "      <th>count</th>\n",
       "      <td>300</td>\n",
       "      <td>300</td>\n",
       "      <td>300</td>\n",
       "      <td>300</td>\n",
       "    </tr>\n",
       "    <tr>\n",
       "      <th>unique</th>\n",
       "      <td>2</td>\n",
       "      <td>2</td>\n",
       "      <td>2</td>\n",
       "      <td>2</td>\n",
       "    </tr>\n",
       "    <tr>\n",
       "      <th>top</th>\n",
       "      <td>Error Free</td>\n",
       "      <td>Error Free</td>\n",
       "      <td>Error Free</td>\n",
       "      <td>Error Free</td>\n",
       "    </tr>\n",
       "    <tr>\n",
       "      <th>freq</th>\n",
       "      <td>271</td>\n",
       "      <td>267</td>\n",
       "      <td>269</td>\n",
       "      <td>280</td>\n",
       "    </tr>\n",
       "  </tbody>\n",
       "</table>\n",
       "</div>"
      ],
      "text/plain": [
       "       Phillippines   Indonesia       Malta       India\n",
       "count           300         300         300         300\n",
       "unique            2           2           2           2\n",
       "top      Error Free  Error Free  Error Free  Error Free\n",
       "freq            271         267         269         280"
      ]
     },
     "execution_count": 87,
     "metadata": {},
     "output_type": "execute_result"
    }
   ],
   "source": [
    "dtelcall.describe()"
   ]
  },
  {
   "cell_type": "code",
   "execution_count": 88,
   "id": "939af139",
   "metadata": {},
   "outputs": [
    {
     "data": {
      "text/plain": [
       "Phillippines    0\n",
       "Indonesia       0\n",
       "Malta           0\n",
       "India           0\n",
       "dtype: int64"
      ]
     },
     "execution_count": 88,
     "metadata": {},
     "output_type": "execute_result"
    }
   ],
   "source": [
    "dtelcall.isnull().sum()"
   ]
  },
  {
   "cell_type": "code",
   "execution_count": 89,
   "id": "bd7e9bc5",
   "metadata": {},
   "outputs": [
    {
     "name": "stdout",
     "output_type": "stream",
     "text": [
      "<class 'pandas.core.frame.DataFrame'>\n",
      "RangeIndex: 300 entries, 0 to 299\n",
      "Data columns (total 4 columns):\n",
      " #   Column        Non-Null Count  Dtype \n",
      "---  ------        --------------  ----- \n",
      " 0   Phillippines  300 non-null    object\n",
      " 1   Indonesia     300 non-null    object\n",
      " 2   Malta         300 non-null    object\n",
      " 3   India         300 non-null    object\n",
      "dtypes: object(4)\n",
      "memory usage: 9.5+ KB\n"
     ]
    }
   ],
   "source": [
    "dtelcall.info()"
   ]
  },
  {
   "cell_type": "code",
   "execution_count": 103,
   "id": "f44d5b4a",
   "metadata": {},
   "outputs": [],
   "source": [
    "col = np.array(dtelcall.columns)"
   ]
  },
  {
   "cell_type": "code",
   "execution_count": 104,
   "id": "ad13c41d",
   "metadata": {},
   "outputs": [
    {
     "data": {
      "text/plain": [
       "array(['Phillippines', 'Indonesia', 'Malta', 'India'], dtype=object)"
      ]
     },
     "execution_count": 104,
     "metadata": {},
     "output_type": "execute_result"
    }
   ],
   "source": [
    "col"
   ]
  },
  {
   "cell_type": "code",
   "execution_count": 116,
   "id": "c2fa2946",
   "metadata": {},
   "outputs": [
    {
     "data": {
      "text/plain": [
       "'Indonesia'"
      ]
     },
     "execution_count": 116,
     "metadata": {},
     "output_type": "execute_result"
    }
   ],
   "source": [
    "col[1]"
   ]
  },
  {
   "cell_type": "code",
   "execution_count": 124,
   "id": "733f94ac",
   "metadata": {},
   "outputs": [
    {
     "name": "stdout",
     "output_type": "stream",
     "text": [
      "Phillippines\n",
      "Indonesia\n",
      "Malta\n",
      "India\n"
     ]
    }
   ],
   "source": [
    "for row in col:\n",
    "    print(row)"
   ]
  },
  {
   "cell_type": "code",
   "execution_count": 125,
   "id": "84878a6d",
   "metadata": {},
   "outputs": [
    {
     "name": "stdout",
     "output_type": "stream",
     "text": [
      "Phillippines\n",
      "Error Free    271\n",
      "Defective      29\n",
      "Name: count, dtype: int64 \n",
      "\n",
      "Indonesia\n",
      "Error Free    267\n",
      "Defective      33\n",
      "Name: count, dtype: int64 \n",
      "\n",
      "Malta\n",
      "Error Free    269\n",
      "Defective      31\n",
      "Name: count, dtype: int64 \n",
      "\n",
      "India\n",
      "Error Free    280\n",
      "Defective      20\n",
      "Name: count, dtype: int64 \n",
      "\n"
     ]
    }
   ],
   "source": [
    "for row in col:\n",
    "    print(dtelcall[row].value_counts(), '\\n')"
   ]
  },
  {
   "cell_type": "code",
   "execution_count": 126,
   "id": "981e78a0",
   "metadata": {},
   "outputs": [],
   "source": [
    "table1 = [[271,267,269,280], [29,33,31,20]]"
   ]
  },
  {
   "cell_type": "markdown",
   "id": "d458f618",
   "metadata": {},
   "source": [
    "### Assumption:\n",
    "\n",
    "__Null Hypothesis, H0:__ \n",
    "There is no significant association between the two categorical variables.\n",
    "\n",
    "__Alternate Hypothesis, H1:__ \n",
    "There is a significant association between the two categorical variables.\n",
    "\n",
    "\n",
    "### Signification:\n",
    "\n",
    "Signification is 5%\n",
    "therefore, alpha is 0.05\n",
    "\n",
    "\n",
    "### chi2_contigency test:"
   ]
  },
  {
   "cell_type": "code",
   "execution_count": 131,
   "id": "3d255e42",
   "metadata": {},
   "outputs": [],
   "source": [
    "stat1, pvalue1, df1, expected_obs1 = stats.chi2_contingency(table1)"
   ]
  },
  {
   "cell_type": "code",
   "execution_count": 132,
   "id": "5e4a0909",
   "metadata": {},
   "outputs": [
    {
     "name": "stdout",
     "output_type": "stream",
     "text": [
      "3.858960685820355\n",
      "0.2771020991233135\n",
      "3\n",
      "[[271.75 271.75 271.75 271.75]\n",
      " [ 28.25  28.25  28.25  28.25]]\n"
     ]
    }
   ],
   "source": [
    "print(stat1)\n",
    "print(pvalue1)\n",
    "print(df1)\n",
    "print(expected_obs1)"
   ]
  },
  {
   "cell_type": "markdown",
   "id": "c083171f",
   "metadata": {},
   "source": [
    "### Conclusion:\n",
    "\n",
    "Because p-value (0.27) > alpha(0.05), therefore we fail to reject the null hypothesis in the absence of any strong evidence. Therefore, there is no significant association between the two categorical values"
   ]
  },
  {
   "cell_type": "code",
   "execution_count": null,
   "id": "8a6693f5",
   "metadata": {},
   "outputs": [],
   "source": []
  }
 ],
 "metadata": {
  "kernelspec": {
   "display_name": "Python 3 (ipykernel)",
   "language": "python",
   "name": "python3"
  },
  "language_info": {
   "codemirror_mode": {
    "name": "ipython",
    "version": 3
   },
   "file_extension": ".py",
   "mimetype": "text/x-python",
   "name": "python",
   "nbconvert_exporter": "python",
   "pygments_lexer": "ipython3",
   "version": "3.11.5"
  }
 },
 "nbformat": 4,
 "nbformat_minor": 5
}
